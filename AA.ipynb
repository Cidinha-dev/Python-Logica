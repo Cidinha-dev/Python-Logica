{
  "nbformat": 4,
  "nbformat_minor": 0,
  "metadata": {
    "colab": {
      "private_outputs": true,
      "provenance": [],
      "authorship_tag": "ABX9TyMCV2dfq0I63VgjTQN+K1LW",
      "include_colab_link": true
    },
    "kernelspec": {
      "name": "python3",
      "display_name": "Python 3"
    },
    "language_info": {
      "name": "python"
    }
  },
  "cells": [
    {
      "cell_type": "markdown",
      "metadata": {
        "id": "view-in-github",
        "colab_type": "text"
      },
      "source": [
        "<a href=\"https://colab.research.google.com/github/Cidinha-dev/Python-para-Data-Science/blob/main/AA.ipynb\" target=\"_parent\"><img src=\"https://colab.research.google.com/assets/colab-badge.svg\" alt=\"Open In Colab\"/></a>"
      ]
    },
    {
      "cell_type": "markdown",
      "source": [
        "Nome: Aparecida Fernanda de Fatima Lemas Santos -  2172190316\n",
        "\n",
        "Professor: FRANCISCO FILHO\n",
        "\n",
        "---\n"
      ],
      "metadata": {
        "id": "hqj9D6MS7wJq"
      }
    },
    {
      "cell_type": "markdown",
      "source": [
        "---\n",
        "\n",
        "# Atividade Ativa\n",
        "\n",
        "\n",
        "\n",
        "# Programação Paralela e Sistemas de Tempo Real\n",
        "\n",
        "\n",
        "---\n",
        "\n"
      ],
      "metadata": {
        "id": "ypAU8dL27-PZ"
      }
    },
    {
      "cell_type": "markdown",
      "source": [
        "---\n",
        "\n",
        "## Função is_prime(n):\n",
        "\n",
        "- Verifica se um número é primo.\n",
        "Retorna True se o número for primo e False caso contrário.\n",
        "\n",
        "## Função calculate_primes() e calculate_primes_with_threads():\n",
        "\n",
        "- Ambas as funções calculam os 100 primeiros números primos. A diferença é que uma será usada para subprocessos e a outra para threads.\n",
        "\n",
        "## Função measure_performance():\n",
        "\n",
        "- Utiliza a biblioteca psutil para medir o uso de CPU e memória do processo atual.\n",
        "\n",
        "- Exibe os valores medidos em porcentagem de uso de CPU e megabytes de memória.\n",
        "\n",
        "## Subprocessos e Threads:\n",
        "\n",
        "- No caso dos subprocessos, o código cria um novo processo para calcular os números primos, utilizando a função multiprocessing.Process.\n",
        "No caso das threads, o código utiliza a classe threading.Thread para criar uma thread que executa o cálculo.\n",
        "\n",
        "## Medição de Tempo:\n",
        "\n",
        "- O tempo de execução é medido utilizando a função time.time(), registrando o tempo antes e depois da execução dos cálculos.\n",
        "\n",
        "## Chamada join():\n",
        "\n",
        "- process.join() e thread.join() são utilizados para garantir que o programa principal aguarde a finalização do subprocesso ou thread antes de continuar a execução.\n",
        "\n",
        "## Executando o Código\n",
        "\n",
        "- Salve os dois códigos em arquivos .py separados ou em um único arquivo com funções separadas.\n",
        "\n",
        "- Execute o código no terminal ou em um ambiente de desenvolvimento, como o Jupyter Notebook.\n",
        "\n"
      ],
      "metadata": {
        "id": "nKKeM6KW5tds"
      }
    },
    {
      "cell_type": "markdown",
      "source": [
        "# Implementação com Subprocessos"
      ],
      "metadata": {
        "id": "0_vGFjxB7ls8"
      }
    },
    {
      "cell_type": "code",
      "execution_count": null,
      "metadata": {
        "id": "jBoijCJO5kK5"
      },
      "outputs": [],
      "source": [
        "import time\n",
        "import multiprocessing\n",
        "import psutil\n",
        "\n",
        "def is_prime(n):\n",
        "    \"\"\"Verifica se um número é primo.\"\"\"\n",
        "    if n < 2:\n",
        "        return False\n",
        "    for i in range(2, int(n**0.5) + 1):\n",
        "        if n % i == 0:\n",
        "            return False\n",
        "    return True\n",
        "\n",
        "def calculate_primes():\n",
        "    \"\"\"Calcula os 100 primeiros números primos.\"\"\"\n",
        "    primes = []\n",
        "    num = 2\n",
        "    while len(primes) < 100:\n",
        "        if is_prime(num):\n",
        "            primes.append(num)\n",
        "        num += 1\n",
        "    return primes\n",
        "\n",
        "def measure_performance():\n",
        "    \"\"\"Mede o uso de CPU e memória do processo atual.\"\"\"\n",
        "    process = psutil.Process()\n",
        "    cpu_usage = process.cpu_percent(interval=1.0)\n",
        "    memory_info = process.memory_info()\n",
        "    print(f\"Uso de CPU: {cpu_usage}%\")\n",
        "    print(f\"Uso de memória: {memory_info.rss / (1024 * 1024):.2f} MB\")\n",
        "\n",
        "if __name__ == '__main__':\n",
        "    # Medindo o tempo de execução com subprocessos\n",
        "    start_time = time.time()\n",
        "\n",
        "    # Criar um subprocesso para calcular os números primos\n",
        "    process = multiprocessing.Process(target=calculate_primes)\n",
        "    process.start()  # Inicia o subprocesso\n",
        "    process.join()   # Aguarda o término do subprocesso\n",
        "\n",
        "    end_time = time.time()\n",
        "    print(f\"Tempo de execução com subprocessos: {end_time - start_time:.4f} segundos\")\n",
        "\n",
        "    # Medir desempenho\n",
        "    measure_performance()\n"
      ]
    },
    {
      "cell_type": "markdown",
      "source": [
        "# Implementação com Threads"
      ],
      "metadata": {
        "id": "hS_m6UdQ7qDn"
      }
    },
    {
      "cell_type": "code",
      "source": [
        "import threading\n",
        "\n",
        "def calculate_primes_with_threads():\n",
        "    \"\"\"Calcula os 100 primeiros números primos.\"\"\"\n",
        "    primes = []\n",
        "    num = 2\n",
        "    while len(primes) < 100:\n",
        "        if is_prime(num):\n",
        "            primes.append(num)\n",
        "        num += 1\n",
        "    return primes\n",
        "\n",
        "if __name__ == '__main__':\n",
        "    # Medindo o tempo de execução com threads\n",
        "    start_time = time.time()\n",
        "\n",
        "    # Criar uma thread para calcular os números primos\n",
        "    thread = threading.Thread(target=calculate_primes_with_threads)\n",
        "    thread.start()   # Inicia a thread\n",
        "    thread.join()    # Aguarda o término da thread\n",
        "\n",
        "    end_time = time.time()\n",
        "    print(f\"Tempo de execução com threads: {end_time - start_time:.4f} segundos\")\n",
        "\n",
        "    # Medir desempenho\n",
        "    measure_performance()\n"
      ],
      "metadata": {
        "id": "w0T4So_b7bzK"
      },
      "execution_count": null,
      "outputs": []
    }
  ]
}