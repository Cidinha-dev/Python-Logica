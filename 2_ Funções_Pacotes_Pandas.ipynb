{
  "nbformat": 4,
  "nbformat_minor": 0,
  "metadata": {
    "colab": {
      "private_outputs": true,
      "provenance": [],
      "collapsed_sections": [
        "1LyRTi1V0z2D",
        "T8oEbxdk0z2Z",
        "TJ7quHks0z2a",
        "tVBxrM1z0z2c",
        "hNUvEb1N0z2d",
        "YBx0MQZS0z2j",
        "P3tSN_2p0z2n",
        "jA5Oc2E__KwN",
        "q_rHYeqC91lV",
        "kq4S6Xhb0z2p",
        "zYNSWxJG0z2t",
        "1IDmh2uU0z2w",
        "zyf8IkX30z20",
        "NlaMU4zO0z24",
        "m17fqiwR0z25",
        "axGnoqpq0z26",
        "4SlaLkzd0z27",
        "7JhHBdn00z28",
        "kabIXA260z2_",
        "J6KrbXsM0z3A",
        "OCGG3Iw30z3B",
        "FZeIKTvy0z3C",
        "fmRpnJPk0z3C",
        "gsfr7Ssc8Yav",
        "6gZZw6MJ0z3E",
        "1nsX6JX60z3H",
        "WhcotJ73XodG",
        "i4KS6sYr0z3K",
        "qHatEJj50z3L",
        "y1bSyUKXzxDF",
        "QMCz0MHZ0z3M",
        "v5CM9rv00z3b"
      ],
      "mount_file_id": "1sbJI_EPEs9y0xyTOJ6y1DX5NmM7WgkHx",
      "authorship_tag": "ABX9TyM26uGEbVnr0WFe7V7UrA6q",
      "include_colab_link": true
    },
    "kernelspec": {
      "name": "python3",
      "display_name": "Python 3"
    },
    "language_info": {
      "name": "python"
    }
  },
  "cells": [
    {
      "cell_type": "markdown",
      "metadata": {
        "id": "view-in-github",
        "colab_type": "text"
      },
      "source": [
        "<a href=\"https://colab.research.google.com/github/Cidinha-dev/Python-para-Data-Science/blob/main/2_Python_para_Data_Science_Pandas.ipynb\" target=\"_parent\"><img src=\"https://colab.research.google.com/assets/colab-badge.svg\" alt=\"Open In Colab\"/></a>"
      ]
    },
    {
      "cell_type": "markdown",
      "metadata": {
        "id": "1LyRTi1V0z2D"
      },
      "source": [
        "# <font color=green> PYTHON PARA DATA SCIENCE - PANDAS\n",
        "---"
      ]
    },
    {
      "cell_type": "code",
      "source": [
        "from google.colab import drive\n",
        "drive.mount('/content/drive')"
      ],
      "metadata": {
        "id": "ehLOeFlI0z2Y"
      },
      "execution_count": null,
      "outputs": []
    },
    {
      "cell_type": "markdown",
      "metadata": {
        "id": "T8oEbxdk0z2Z"
      },
      "source": [
        "# 1.1 Introdução"
      ]
    },
    {
      "cell_type": "markdown",
      "metadata": {
        "id": "iKRHzKs20z2a"
      },
      "source": [
        "> Python é uma linguagem de programação de alto nível com suporte a múltiplos paradigmas de programação. É um projeto *open source* e desde seu surgimento, em 1991, vem se tornando uma das linguagens de programação interpretadas mais populares.\n",
        ">\n",
        "> Nos últimos anos Python desenvolveu uma comunidade ativa de processamento científico e análise de dados e vem se destacando como uma das linguagens mais relevantes quando o assundo é ciência de dados e machine learning, tanto no ambiente acadêmico como também no mercado."
      ]
    },
    {
      "cell_type": "markdown",
      "metadata": {
        "id": "TJ7quHks0z2a"
      },
      "source": [
        "# 1.2 Instalação e ambiente de desenvolvimento"
      ]
    },
    {
      "cell_type": "markdown",
      "metadata": {
        "id": "W__KHOhk0z2b"
      },
      "source": [
        "### Instalação Local\n",
        "\n",
        "### https://www.python.org/downloads/\n",
        "### ou\n",
        "### https://www.anaconda.com/distribution/"
      ]
    },
    {
      "cell_type": "markdown",
      "metadata": {
        "id": "NVCDX4pC0z2b"
      },
      "source": [
        "### Google Colaboratory\n",
        "\n",
        "### https://colab.research.google.com"
      ]
    },
    {
      "cell_type": "markdown",
      "metadata": {
        "id": "tVBxrM1z0z2c"
      },
      "source": [
        "### Verificando versão"
      ]
    },
    {
      "cell_type": "code",
      "metadata": {
        "id": "_5rvwdVK0z2d"
      },
      "source": [
        "!python -V"
      ],
      "execution_count": null,
      "outputs": []
    },
    {
      "cell_type": "markdown",
      "metadata": {
        "id": "hNUvEb1N0z2d"
      },
      "source": [
        "# <font color=green> 1 Trabalhando com dados\n",
        "\n",
        "Criaremos uma variável dataset que receberá a chamada de pd.read_csv() - o apelido da biblioteca, pd, seguido da função read_csv(), que realiza a leitura de arquivos. Como parâmetro passaremos o arquivo que acabamos de subir, dv.csv."
      ]
    },
    {
      "cell_type": "code",
      "metadata": {
        "id": "ISF_cS8z0z2e"
      },
      "source": [
        "import pandas as pd\n"
      ],
      "execution_count": null,
      "outputs": []
    },
    {
      "cell_type": "code",
      "metadata": {
        "id": "mevPvpVv0z2f"
      },
      "source": [
        "dataset = pd.read_csv('db.csv' , sep=';')"
      ],
      "execution_count": null,
      "outputs": []
    },
    {
      "cell_type": "code",
      "metadata": {
        "scrolled": true,
        "id": "gGjJIZpn0z2f"
      },
      "source": [
        "dataset"
      ],
      "execution_count": null,
      "outputs": []
    },
    {
      "cell_type": "markdown",
      "source": [
        "Vamos supor que desejamos calcular uma estatística descritiva com esse conjunto. Em nosso exemplo, usaremos as colunas \"quilometragem\" e \"valor\". Usaremos a variável dataset, que contém o nosso conjunto, e passaremos entre dois colchetes (pois estamos passando mais de uma informação) as duas variáveis que possuem os dados desejados - Quilometragem e Valor). Por fim, adicionaremos um ponto (.) e a função describe().\n",
        "\n"
      ],
      "metadata": {
        "id": "bPKkH11r3kXj"
      }
    },
    {
      "cell_type": "code",
      "metadata": {
        "id": "fqD8CzX40z2f"
      },
      "source": [
        "dataset[['Quilometragem','Valor']].describe()"
      ],
      "execution_count": null,
      "outputs": []
    },
    {
      "cell_type": "markdown",
      "source": [
        "Com a função info() também podemos conseguir outras informações importantes. Por exemplo, acabamos de descobrir que temos menos ocorrências de Quilometragem do que de Valor."
      ],
      "metadata": {
        "id": "i5DiT33F4Oa5"
      }
    },
    {
      "cell_type": "code",
      "metadata": {
        "id": "kSnzhjjl0z2g"
      },
      "source": [
        "dataset.info()"
      ],
      "execution_count": null,
      "outputs": []
    },
    {
      "cell_type": "markdown",
      "metadata": {
        "id": "F-ns0ZM40z2g"
      },
      "source": [
        "# <font color=green> 2. TRABALHANDO COM TUPLAS\n"
      ]
    },
    {
      "cell_type": "markdown",
      "metadata": {
        "id": "UekVR9pt0z2h"
      },
      "source": [
        "# 2.1 Criando tuplas\n",
        "\n",
        "Tuplas são sequências imutáveis que são utilizadas para armazenar coleções de itens, geralmente heterogêneos. Podem ser construídas de várias formas:\n",
        "```\n",
        "- Utilizando um par de parênteses: ( )\n",
        "- Utilizando uma vírgula à direita: x,\n",
        "- Utilizando um par de parênteses com itens separados por vírgulas: ( x, y, z )\n",
        "- Utilizando: tuple() ou tuple(iterador)\n",
        "```"
      ]
    },
    {
      "cell_type": "code",
      "metadata": {
        "id": "ZGOQlStl0z2h"
      },
      "source": [
        "()"
      ],
      "execution_count": null,
      "outputs": []
    },
    {
      "cell_type": "code",
      "metadata": {
        "id": "noeOnb_00z2i"
      },
      "source": [
        "1,2,3,4"
      ],
      "execution_count": null,
      "outputs": []
    },
    {
      "cell_type": "code",
      "metadata": {
        "id": "6r0a-2eN0z2i"
      },
      "source": [
        "(1,2,3)"
      ],
      "execution_count": null,
      "outputs": []
    },
    {
      "cell_type": "markdown",
      "source": [
        "Note que as tuplas, assim como as listas, podem armazenar tipos variados de dados, como strings, dados numéricos, listas ou mesmo outras tuplas. A última forma de criarmos tuplas é usando a função tuple(). Para testarmos, criaremos uma variável nomes_carros para qual atribuiremos a chamada dessa função, que por sua vez receberá como parâmetro uma lista com nomes de carros."
      ],
      "metadata": {
        "id": "qEVO68Kz6TvN"
      }
    },
    {
      "cell_type": "code",
      "metadata": {
        "id": "JPmB_lQ70z2j"
      },
      "source": [
        "nome_carro= tuple(['Jetta Variant', 'Passat', 'Crossfox', 'DS5'])"
      ],
      "execution_count": null,
      "outputs": []
    },
    {
      "cell_type": "code",
      "metadata": {
        "id": "fLUInJj-0z2j"
      },
      "source": [
        "type(nome_carro)"
      ],
      "execution_count": null,
      "outputs": []
    },
    {
      "cell_type": "markdown",
      "metadata": {
        "id": "YBx0MQZS0z2j"
      },
      "source": [
        "# 2.2 Seleções em tuplas"
      ]
    },
    {
      "cell_type": "code",
      "metadata": {
        "id": "w7cxOVNt0z2k"
      },
      "source": [
        "nomes_carros = tuple(['Jetta Variant', 'Passat', 'Crossfox', 'DS5'])\n",
        "nomes_carros"
      ],
      "execution_count": null,
      "outputs": []
    },
    {
      "cell_type": "code",
      "metadata": {
        "id": "ck5aqQ-80z2k"
      },
      "source": [
        "nome_carro[0]"
      ],
      "execution_count": null,
      "outputs": []
    },
    {
      "cell_type": "code",
      "metadata": {
        "id": "KI1HenlU0z2l"
      },
      "source": [
        "nome_carro[1]"
      ],
      "execution_count": null,
      "outputs": []
    },
    {
      "cell_type": "code",
      "metadata": {
        "id": "RQgXb4FK0z2l"
      },
      "source": [
        "nome_carro[-1]"
      ],
      "execution_count": null,
      "outputs": []
    },
    {
      "cell_type": "code",
      "metadata": {
        "id": "yQH3s7bY0z2m"
      },
      "source": [
        "nome_carro[1:3]"
      ],
      "execution_count": null,
      "outputs": []
    },
    {
      "cell_type": "markdown",
      "source": [
        "Em resumo, o primeiro item que passamos no fatiamento aparecerá na tupla resultante, mas o último não. Prosseguindo, é possível termos tuplas que contêm, em si, outras tuplas."
      ],
      "metadata": {
        "id": "9eNgrWtR8Dd9"
      }
    },
    {
      "cell_type": "code",
      "metadata": {
        "id": "6zzCjc-W0z2m"
      },
      "source": [
        "nomes_carros = ('Jetta Variant', 'Passat', 'Crossfox', 'DS5', ('Fusca', 'Gol', 'C4'))\n",
        "nomes_carros"
      ],
      "execution_count": null,
      "outputs": []
    },
    {
      "cell_type": "code",
      "metadata": {
        "id": "UAbDVuPW0z2n"
      },
      "source": [
        "nomes_carros[-1]"
      ],
      "execution_count": null,
      "outputs": []
    },
    {
      "cell_type": "markdown",
      "source": [
        "Queremos o segundo item dessa tupla. Para isso, passaremos um novo par de colchetes contendo a sua posição, ou seja, 1."
      ],
      "metadata": {
        "id": "nWYrAtWu8Q4J"
      }
    },
    {
      "cell_type": "code",
      "metadata": {
        "id": "d4txB5c30z2n"
      },
      "source": [
        "nomes_carros[-1][1]"
      ],
      "execution_count": null,
      "outputs": []
    },
    {
      "cell_type": "markdown",
      "metadata": {
        "id": "P3tSN_2p0z2n"
      },
      "source": [
        "# 2.3 Iterando em tuplas"
      ]
    },
    {
      "cell_type": "code",
      "metadata": {
        "id": "DWo3j7ST0z2o"
      },
      "source": [
        "nomes_carros = ('Jetta Variant', 'Passat', 'Crossfox', 'DS5')\n",
        "nomes_carros"
      ],
      "execution_count": null,
      "outputs": []
    },
    {
      "cell_type": "code",
      "metadata": {
        "id": "GusIuOA60z2o"
      },
      "source": [
        "for itens in nomes_carros:\n",
        "    print(itens)"
      ],
      "execution_count": null,
      "outputs": []
    },
    {
      "cell_type": "markdown",
      "source": [
        "# 2.4 Selecionando itens em tuplas"
      ],
      "metadata": {
        "id": "jA5Oc2E__KwN"
      }
    },
    {
      "cell_type": "markdown",
      "source": [
        "Em nosso primeiro treinamento de Python para Data Science, nós aprendemos como fazer seleções de itens em listas e em arrays Numpy. O procedimento para seleções em tuplas funciona da mesma forma. Considere a seguinte tupla:"
      ],
      "metadata": {
        "id": "tMjAS4fu_RD9"
      }
    },
    {
      "cell_type": "code",
      "source": [
        "carros = (\n",
        "    (\n",
        "        'Jetta Variant',\n",
        "        'Motor 4.0 Turbo',\n",
        "        2003,\n",
        "        False,\n",
        "        ('Rodas de liga', 'Travas elétricas', 'Piloto automático')\n",
        "    ),\n",
        "    (\n",
        "        'Passat',\n",
        "        'Motor Diesel',\n",
        "        1991,\n",
        "        True,\n",
        "        ('Central multimídia', 'Teto panorâmico', 'Freios ABS')\n",
        "    )\n",
        ")"
      ],
      "metadata": {
        "id": "cLIBOpfI_N66"
      },
      "execution_count": null,
      "outputs": []
    },
    {
      "cell_type": "code",
      "source": [
        "carros[0][3]"
      ],
      "metadata": {
        "id": "WP9uicov_X2H"
      },
      "execution_count": null,
      "outputs": []
    },
    {
      "cell_type": "code",
      "source": [
        "carros[-1][-1][-1]"
      ],
      "metadata": {
        "id": "hbtcNnWh_bLT"
      },
      "execution_count": null,
      "outputs": []
    },
    {
      "cell_type": "code",
      "source": [
        "carros[0][-1][:2]"
      ],
      "metadata": {
        "id": "wcnazMQ6_eLn"
      },
      "execution_count": null,
      "outputs": []
    },
    {
      "cell_type": "markdown",
      "source": [
        "\n",
        "\n",
        "\n",
        " # 2.5 Laços for com tuplas"
      ],
      "metadata": {
        "id": "q_rHYeqC91lV"
      }
    },
    {
      "cell_type": "markdown",
      "source": [
        "**Problema:** O procedimento de iteração em tuplas é o mesmo que aprendemos com listas, no treinamento anterior. Utilizamos a tupla como iterador de um laço for simples, ou alinhado, e conseguimos acesso a cada item individualmente."
      ],
      "metadata": {
        "id": "jL1iR8tq9-fG"
      }
    },
    {
      "cell_type": "code",
      "source": [
        "carros = (\n",
        "    (\n",
        "        'Jetta Variant',\n",
        "        'Motor 4.0 Turbo',\n",
        "        2003,\n",
        "        False,\n",
        "        ('Rodas de liga', 'Travas elétricas', 'Piloto automático')\n",
        "    ),\n",
        "    (\n",
        "        'Passat',\n",
        "        'Motor Diesel',\n",
        "        1991,\n",
        "        True,\n",
        "        ('Central multimídia', 'Teto panorâmico', 'Freios ABS')\n",
        "    )\n",
        ")"
      ],
      "metadata": {
        "id": "BAdBuhYs93--"
      },
      "execution_count": null,
      "outputs": []
    },
    {
      "cell_type": "markdown",
      "source": [
        "- Rodas de liga\n",
        "- Travas elétricas\n",
        "- Piloto automático\n",
        "- Central multimídia\n",
        "- Teto panorâmico\n",
        "- Freios ABS"
      ],
      "metadata": {
        "id": "vIbjSDOq-E9W"
      }
    },
    {
      "cell_type": "code",
      "source": [
        "for tupla in carros:\n",
        "    for item in tupla[-1]:\n",
        "        print(item)"
      ],
      "metadata": {
        "id": "MtEsgp1B-ISG"
      },
      "execution_count": null,
      "outputs": []
    },
    {
      "cell_type": "markdown",
      "metadata": {
        "id": "kq4S6Xhb0z2p"
      },
      "source": [
        "# 2.6 Desempacotamento de tuplas"
      ]
    },
    {
      "cell_type": "code",
      "metadata": {
        "id": "Gbx87iK00z2p"
      },
      "source": [
        "nomes_carros = ('Jetta Variant', 'Passat', 'Crossfox', 'DS5')\n",
        "nomes_carros"
      ],
      "execution_count": null,
      "outputs": []
    },
    {
      "cell_type": "markdown",
      "source": [
        "Conseguimos varrer cada um dos itens e imprimi-los. O próximo conceito que iremos abordar é o desempacotamento de tuplas, o recurso que citamos anteriormente. Basicamente, é possível atribuirmos cada valor dentro de uma tupla a uma variável específico. Nesse primeiro exemplo, usaremos as variáveis carro_1, carro_2, carro_3 e carro_4 separadas por vírgula. Essa sequência receberá o conteúdo de nomes_carros.\n",
        "\n"
      ],
      "metadata": {
        "id": "pTGq0BtHBiQy"
      }
    },
    {
      "cell_type": "code",
      "metadata": {
        "id": "pzn0fHaf0z2q"
      },
      "source": [
        "carro_1, carro_2, carro_3, carro_4 = nomes_carros\n"
      ],
      "execution_count": null,
      "outputs": []
    },
    {
      "cell_type": "code",
      "metadata": {
        "id": "lBQQkWEB0z2q"
      },
      "source": [
        "carro_1"
      ],
      "execution_count": null,
      "outputs": []
    },
    {
      "cell_type": "code",
      "metadata": {
        "id": "pgrJgfbu0z2q"
      },
      "source": [
        "carro_2"
      ],
      "execution_count": null,
      "outputs": []
    },
    {
      "cell_type": "markdown",
      "source": [
        "Queremos somente o segundo e o último valor da tupla nomes_carros (a primeira posição e a terceira). Para isso, podemos usar o recurso do underscore (ou \"underline\"), da mesma forma que vimos nas listas."
      ],
      "metadata": {
        "id": "NqEf_Wa6B7es"
      }
    },
    {
      "cell_type": "code",
      "metadata": {
        "id": "mpl7118m0z2r"
      },
      "source": [
        "_,A,_,D = nomes_carros"
      ],
      "execution_count": null,
      "outputs": []
    },
    {
      "cell_type": "code",
      "metadata": {
        "id": "FC2KTQMh0z2r"
      },
      "source": [
        "A"
      ],
      "execution_count": null,
      "outputs": []
    },
    {
      "cell_type": "code",
      "source": [
        "_, C, *_ = nomes_carros\n"
      ],
      "metadata": {
        "id": "Sg8l9jAXIi_g"
      },
      "execution_count": null,
      "outputs": []
    },
    {
      "cell_type": "markdown",
      "source": [
        "Pegar um iten expecifico dentro de uma tupla, podemos ignorar o primeiro valor com underscore, receber o segundo com uma variável (por exemplo C) e finalizar com asterisco seguido de underscore (*_). Dessa forma ignoraremos todos os valores posteriores.\n",
        "\n"
      ],
      "metadata": {
        "id": "kRUZ_1PNFyc_"
      }
    },
    {
      "cell_type": "code",
      "source": [
        "nomes_pessoas=('Fernanda','Jonathas','Geovana','Raul','Keiko')"
      ],
      "metadata": {
        "id": "6kUlKAM8G7Oq"
      },
      "execution_count": null,
      "outputs": []
    },
    {
      "cell_type": "code",
      "metadata": {
        "id": "JTNQw-2a0z2s"
      },
      "source": [
        "*_,pessoa,_ = nomes_pessoas"
      ],
      "execution_count": null,
      "outputs": []
    },
    {
      "cell_type": "code",
      "metadata": {
        "id": "_7b_dXA50z2s"
      },
      "source": [
        "pessoa"
      ],
      "execution_count": null,
      "outputs": []
    },
    {
      "cell_type": "markdown",
      "metadata": {
        "id": "zYNSWxJG0z2t"
      },
      "source": [
        "# <font color=green> 3. A função zip()\n",
        "\n",
        "https://docs.python.org/3.6/library/functions.html#zip"
      ]
    },
    {
      "cell_type": "markdown",
      "source": [
        "Existe também uma nova função nativa do Python, chamada zip(), que cria um iterador com tuplas (de maneira semelhante à função range()), e vamos entender como ela funciona. Para nossos testes, inicializaremos duas listas: carros, contendo os modelos de alguns veículos; e valores, com seus preços."
      ],
      "metadata": {
        "id": "Zd-GfkN5Jx2p"
      }
    },
    {
      "cell_type": "code",
      "metadata": {
        "id": "rrdgFFbQ0z2u"
      },
      "source": [
        "carros = ['Jetta Variant', 'Passat', 'Crossfox', 'DS5']\n",
        "carros"
      ],
      "execution_count": null,
      "outputs": []
    },
    {
      "cell_type": "code",
      "metadata": {
        "id": "8iBg8Mu80z2u"
      },
      "source": [
        "valores = [88078.64, 106161.94, 72832.16, 124549.07]\n",
        "valores"
      ],
      "execution_count": null,
      "outputs": []
    },
    {
      "cell_type": "code",
      "metadata": {
        "id": "pwsEWkDL0z2v"
      },
      "source": [
        "# Chamaremos então a função zip() passando como parâmetros nossas duas listas.\n",
        "\n",
        "zip(carros , valores)"
      ],
      "execution_count": null,
      "outputs": []
    },
    {
      "cell_type": "code",
      "metadata": {
        "id": "tfR3iCQv0z2v"
      },
      "source": [
        "# Com o auxílio da função list(), podemos transformar esse iterador em uma lista de modo a visualizá-lo.\n",
        "\n",
        "list(zip(carros , valores))"
      ],
      "execution_count": null,
      "outputs": []
    },
    {
      "cell_type": "code",
      "metadata": {
        "id": "d91E-I3Z0z2v"
      },
      "source": [
        "for item in zip(carros , valores):\n",
        "    print(item)"
      ],
      "execution_count": null,
      "outputs": []
    },
    {
      "cell_type": "code",
      "metadata": {
        "id": "X8u3QR-10z2w"
      },
      "source": [
        "for carro, valor in zip(carros , valores):\n",
        "    print(carro, valor)\n"
      ],
      "execution_count": null,
      "outputs": []
    },
    {
      "cell_type": "code",
      "source": [
        "# condicional if que imprime somente os carros cujo valor é maior do que 100000.\n",
        "\n",
        "for carro, valor in zip(carros, valores):\n",
        "  if(valor > 100000):\n",
        "    print(carro)"
      ],
      "metadata": {
        "id": "yNpyFg4xLwzC"
      },
      "execution_count": null,
      "outputs": []
    },
    {
      "cell_type": "code",
      "source": [
        "# desempacotamento de tuplas, é possível fazer declarações conjuntas de variáveis\n",
        "# e utilizar cada variável individualmente\n",
        "\n",
        "nome, valor = ('Passat', 100000.0)"
      ],
      "metadata": {
        "id": "oRs8AHRSMtLF"
      },
      "execution_count": null,
      "outputs": []
    },
    {
      "cell_type": "code",
      "source": [
        "# A função zip() permite gerar um iterador de tuplas\n",
        "\n",
        "nomes = ['Passat', 'Crossfox']\n",
        "valores = [100000.0, 75000.0]\n",
        "list(zip(nomes, valores))"
      ],
      "metadata": {
        "id": "eCiDy2mWOBqe"
      },
      "execution_count": null,
      "outputs": []
    },
    {
      "cell_type": "code",
      "source": [
        "# Considerando as duas listas abaixo:\n",
        "\n",
        "nomes = ['Passat', 'Crossfox', 'DS5', 'C4', 'Jetta']\n",
        "kms = [15000, 12000, 32000, 8000, 50000]"
      ],
      "metadata": {
        "id": "rkaeBCdAOiVK"
      },
      "execution_count": null,
      "outputs": []
    },
    {
      "cell_type": "code",
      "source": [
        "# impressão dos nomes dos veículos com quilometragem abaixo de 20.000 km\n",
        "\n",
        "for nome, km in zip(nomes, kms):\n",
        "    if(km < 20000):\n",
        "        print(nome)"
      ],
      "metadata": {
        "id": "cUvUvc0KOtjK"
      },
      "execution_count": null,
      "outputs": []
    },
    {
      "cell_type": "markdown",
      "metadata": {
        "id": "I-Y9Q5Ew0z2w"
      },
      "source": [
        "# <font color=green> 4. TRABALHANDO COM DICIONÁRIOS\n",
        "---"
      ]
    },
    {
      "cell_type": "markdown",
      "metadata": {
        "id": "1IDmh2uU0z2w"
      },
      "source": [
        "# **4.1 Criando dicionários**\n",
        "Listas são coleções sequenciais, isto é, os itens destas sequências estão ordenados e utilizam índices (números inteiros) para acessar os valores.\n",
        "\n",
        "Os dicionários são coleções um pouco diferentes. São estruturas de dados que representam um tipo de mapeamento. Mapeamentos são coleções de associações entre pares de valores onde o primeiro elemento do par é conhecido como chave (*key*) e o segundo como valor (*value*).\n",
        "\n",
        "```\n",
        "dicionario = {key_1: value_1, key_2: value_2, ..., key_n: value_n}\n",
        "```\n",
        "\n",
        "https://docs.python.org/3.6/library/stdtypes.html#typesmapping"
      ]
    },
    {
      "cell_type": "code",
      "metadata": {
        "id": "rO1xvhcN0z2x"
      },
      "source": [
        "# lista contendo os carros\n",
        "\n",
        "carros = ['Jetta Variant', 'Passat', 'Crossfox']\n",
        "carros"
      ],
      "execution_count": null,
      "outputs": []
    },
    {
      "cell_type": "code",
      "metadata": {
        "id": "YVvDwnP60z2y"
      },
      "source": [
        "# lista com os valores dos carros\n",
        "\n",
        "valores = [88078.64, 106161.94, 72832.16]\n",
        "valores"
      ],
      "execution_count": null,
      "outputs": []
    },
    {
      "cell_type": "code",
      "metadata": {
        "id": "Jh1HS5VJ0z2x"
      },
      "source": [
        "# para acesar e saber o index de uma lista\n",
        "\n",
        "carros.index('Crossfox')"
      ],
      "execution_count": null,
      "outputs": []
    },
    {
      "cell_type": "code",
      "metadata": {
        "id": "Umk5ls9L0z2y"
      },
      "source": [
        "# para acessar o index referente dentro de outra lista\n",
        "\n",
        "valores[carros.index('Passat')]"
      ],
      "execution_count": null,
      "outputs": []
    },
    {
      "cell_type": "code",
      "metadata": {
        "id": "3uBooHTT0z2y"
      },
      "source": [
        "# criando um dicionario manualmente\n",
        "\n",
        "dados = {'Jetta Variant':88078.64, 'Passat':106161.94, 'Crossfox':72832.16}"
      ],
      "execution_count": null,
      "outputs": []
    },
    {
      "cell_type": "code",
      "metadata": {
        "id": "JkR-DS470z2z"
      },
      "source": [
        "type(dados)"
      ],
      "execution_count": null,
      "outputs": []
    },
    {
      "cell_type": "markdown",
      "metadata": {
        "id": "0h_9G8Cj0z2z"
      },
      "source": [
        "### Criando dicionários com *zip()*"
      ]
    },
    {
      "cell_type": "markdown",
      "source": [
        "1) Listas são estruturas de dados que representam um tipo básico de sequência.\n",
        "\n",
        "2) Mapeamentos são coleções sequenciais ordenadas, que utilizam índices para acessar os valores\n",
        "\n"
      ],
      "metadata": {
        "id": "JtWCJH2PptKd"
      }
    },
    {
      "cell_type": "code",
      "metadata": {
        "id": "qWn30PV20z20"
      },
      "source": [
        "# Criando uma lista de tuplas utilizando o Zip\n",
        "\n",
        "list(zip(carros ,valores))\n"
      ],
      "execution_count": null,
      "outputs": []
    },
    {
      "cell_type": "code",
      "metadata": {
        "id": "SA5iGVWM0z20"
      },
      "source": [
        "# Criando um dicionario com duas listas utilizando o Zip\n",
        "\n",
        "dados = dict(zip(carros ,valores))"
      ],
      "execution_count": null,
      "outputs": []
    },
    {
      "cell_type": "code",
      "source": [
        "dados"
      ],
      "metadata": {
        "id": "5kxoCHEGpPUB"
      },
      "execution_count": null,
      "outputs": []
    },
    {
      "cell_type": "markdown",
      "metadata": {
        "id": "zyf8IkX30z20"
      },
      "source": [
        "# **4.2 Operações com dicionários**"
      ]
    },
    {
      "cell_type": "markdown",
      "metadata": {
        "id": "AvB3D4Vu0z21"
      },
      "source": [
        "## *dict[ key ]*\n",
        "\n",
        "Retorna o valor correspondente à chave (*key*) no dicionário."
      ]
    },
    {
      "cell_type": "code",
      "metadata": {
        "id": "C0O7icrF0z21"
      },
      "source": [
        "carros = {'Jetta Variant':88078.64, 'Passat':106161.94, 'Crossfox':72832.16}"
      ],
      "execution_count": null,
      "outputs": []
    },
    {
      "cell_type": "code",
      "source": [
        "carros['Crossfox']"
      ],
      "metadata": {
        "id": "utuv4RZ_rcmm"
      },
      "execution_count": null,
      "outputs": []
    },
    {
      "cell_type": "markdown",
      "metadata": {
        "id": "rWwnDJ5u0z21"
      },
      "source": [
        "## *key in dict*\n",
        "\n",
        "Retorna **True** se a chave (*key*) for encontrada no dicionário."
      ]
    },
    {
      "cell_type": "code",
      "metadata": {
        "id": "8ePhBXRL0z22"
      },
      "source": [
        "'Passat' in carros"
      ],
      "execution_count": null,
      "outputs": []
    },
    {
      "cell_type": "code",
      "metadata": {
        "id": "uvzyX2b-0z22"
      },
      "source": [
        "'Fusca' in carros"
      ],
      "execution_count": null,
      "outputs": []
    },
    {
      "cell_type": "code",
      "metadata": {
        "id": "ju_SbPS00z22"
      },
      "source": [
        "'Kombi' not in carros"
      ],
      "execution_count": null,
      "outputs": []
    },
    {
      "cell_type": "markdown",
      "metadata": {
        "id": "mByY8SV50z23"
      },
      "source": [
        "## *len(dict)*\n",
        "\n",
        "Retorna o número de itens do dicionário."
      ]
    },
    {
      "cell_type": "code",
      "metadata": {
        "id": "D1VPuft_0z23"
      },
      "source": [
        "len(carros)"
      ],
      "execution_count": null,
      "outputs": []
    },
    {
      "cell_type": "markdown",
      "metadata": {
        "id": "OdraGBJS0z24"
      },
      "source": [
        "## *dict[ key ] = value*\n",
        "\n",
        "Inclui um item ao dicionário."
      ]
    },
    {
      "cell_type": "code",
      "metadata": {
        "id": "fv_Wod6e0z24"
      },
      "source": [
        "carros['Kombi'] = 2000.23"
      ],
      "execution_count": null,
      "outputs": []
    },
    {
      "cell_type": "code",
      "metadata": {
        "id": "yxshF1hg0z24"
      },
      "source": [
        "carros"
      ],
      "execution_count": null,
      "outputs": []
    },
    {
      "cell_type": "markdown",
      "metadata": {
        "id": "NlaMU4zO0z24"
      },
      "source": [
        "## *del dict[ key ]*\n",
        "\n",
        "Remove o item de chave (*key*) do dicionário."
      ]
    },
    {
      "cell_type": "code",
      "metadata": {
        "id": "jE2nRzbP0z25"
      },
      "source": [
        "del carros['Jetta Variant']"
      ],
      "execution_count": null,
      "outputs": []
    },
    {
      "cell_type": "code",
      "metadata": {
        "id": "AJ7vst3z0z25"
      },
      "source": [
        "carros"
      ],
      "execution_count": null,
      "outputs": []
    },
    {
      "cell_type": "markdown",
      "source": [
        "## *Operações básicas com dicionários*"
      ],
      "metadata": {
        "id": "FOKIpxw-uI30"
      }
    },
    {
      "cell_type": "code",
      "source": [
        "dados = {\n",
        "    'Passat': {\n",
        "        'ano': 2012,\n",
        "        'km': 50000,\n",
        "        'valor': 75000,\n",
        "        'acessorios': ['Airbag', 'ABS']\n",
        "    },\n",
        "    'Crossfox': {\n",
        "        'ano': 2015,\n",
        "        'km': 35000,\n",
        "        'valor': 25000\n",
        "    }\n",
        "}"
      ],
      "metadata": {
        "id": "frIXlHD2uUtR"
      },
      "execution_count": null,
      "outputs": []
    },
    {
      "cell_type": "markdown",
      "source": [
        "1) Testar se a chave acessorios existe no dicionário de informações do carro Crossfox (Resposta: False)"
      ],
      "metadata": {
        "id": "PkP0XFKeufAR"
      }
    },
    {
      "cell_type": "code",
      "source": [
        "'acessorios' in dados['Crossfox']"
      ],
      "metadata": {
        "id": "rAbvZBGsudpC"
      },
      "execution_count": null,
      "outputs": []
    },
    {
      "cell_type": "markdown",
      "source": [
        "2) Testar se a chave acessorios existe no dicionário de informações do carro Passat (Resposta: True)"
      ],
      "metadata": {
        "id": "wnfGj1iruk3j"
      }
    },
    {
      "cell_type": "code",
      "source": [
        "'acessorios' in dados['Passat']"
      ],
      "metadata": {
        "id": "o5cWS6xzun1S"
      },
      "execution_count": null,
      "outputs": []
    },
    {
      "cell_type": "markdown",
      "source": [
        "3) Obter o valor do carro Crossfox (Resposta: 25000)"
      ],
      "metadata": {
        "id": "sKETojaAuxfn"
      }
    },
    {
      "cell_type": "code",
      "source": [
        "dados['Crossfox']['valor']"
      ],
      "metadata": {
        "id": "K-9RB6SXuyVA"
      },
      "execution_count": null,
      "outputs": []
    },
    {
      "cell_type": "markdown",
      "source": [
        "4) Acessar o último acessório do carro Passat (Resposta: 'ABS')"
      ],
      "metadata": {
        "id": "xxaXwgxiu5vM"
      }
    },
    {
      "cell_type": "code",
      "source": [
        "dados['Passat']['acessorios'][-1]"
      ],
      "metadata": {
        "id": "1v2muJjau6hg"
      },
      "execution_count": null,
      "outputs": []
    },
    {
      "cell_type": "markdown",
      "metadata": {
        "id": "m17fqiwR0z25"
      },
      "source": [
        "# **4.3 Métodos de dicionários**"
      ]
    },
    {
      "cell_type": "markdown",
      "metadata": {
        "id": "axGnoqpq0z26"
      },
      "source": [
        "## *dict.update({})*\n",
        "\n",
        "Atualiza o dicionário."
      ]
    },
    {
      "cell_type": "code",
      "metadata": {
        "id": "gX7e_kpi0z26"
      },
      "source": [
        "carros"
      ],
      "execution_count": null,
      "outputs": []
    },
    {
      "cell_type": "code",
      "metadata": {
        "id": "EabeTeAl0z27"
      },
      "source": [
        "# atualizando a Kombi\n",
        "\n",
        "carros.update({'Kombi':8000.88})"
      ],
      "execution_count": null,
      "outputs": []
    },
    {
      "cell_type": "code",
      "source": [
        "# adicionando o Fusca\n",
        "\n",
        "carros.update({'Fusca':2300.99})"
      ],
      "metadata": {
        "id": "sFGkwapsxseU"
      },
      "execution_count": null,
      "outputs": []
    },
    {
      "cell_type": "code",
      "source": [
        "carros"
      ],
      "metadata": {
        "id": "fzJ1mjSlxlct"
      },
      "execution_count": null,
      "outputs": []
    },
    {
      "cell_type": "markdown",
      "metadata": {
        "id": "4SlaLkzd0z27"
      },
      "source": [
        "## *dict.copy()*\n",
        "\n",
        "Cria uma cópia do dicionário."
      ]
    },
    {
      "cell_type": "code",
      "metadata": {
        "id": "jTnYCMAP0z27"
      },
      "source": [
        "carrosCopy = carros.copy()"
      ],
      "execution_count": null,
      "outputs": []
    },
    {
      "cell_type": "code",
      "metadata": {
        "id": "aB2tGt4D0z28"
      },
      "source": [
        "del carrosCopy['Fusca']"
      ],
      "execution_count": null,
      "outputs": []
    },
    {
      "cell_type": "code",
      "metadata": {
        "id": "Z5yaK1BH0z28"
      },
      "source": [
        "carrosCopy"
      ],
      "execution_count": null,
      "outputs": []
    },
    {
      "cell_type": "code",
      "metadata": {
        "id": "eR54WTW40z28"
      },
      "source": [
        "carros"
      ],
      "execution_count": null,
      "outputs": []
    },
    {
      "cell_type": "markdown",
      "metadata": {
        "id": "7JhHBdn00z28"
      },
      "source": [
        "## *dict.pop(key, erro )*\n",
        "\n",
        "O método copy() pode receber um parâmetro \"default\" que permite uma espécie de **tratamento desse erro**"
      ]
    },
    {
      "cell_type": "code",
      "metadata": {
        "id": "_TRFLE4n0z29"
      },
      "source": [
        "carrosCopy"
      ],
      "execution_count": null,
      "outputs": []
    },
    {
      "cell_type": "code",
      "metadata": {
        "id": "6XnO1Egi0z29"
      },
      "source": [
        "carrosCopy.pop('Passat')"
      ],
      "execution_count": null,
      "outputs": []
    },
    {
      "cell_type": "code",
      "metadata": {
        "id": "yaYxAVfs0z29"
      },
      "source": [
        "carrosCopy"
      ],
      "execution_count": null,
      "outputs": []
    },
    {
      "cell_type": "code",
      "metadata": {
        "id": "8PgLzhEP0z2-"
      },
      "source": [
        "carrosCopy.pop('Passat','Veiculo não encontrado')"
      ],
      "execution_count": null,
      "outputs": []
    },
    {
      "cell_type": "code",
      "metadata": {
        "id": "FXSrRoE30z2-"
      },
      "source": [
        "carrosCopy.pop('DS5', 'Chave não encontrada')"
      ],
      "execution_count": null,
      "outputs": []
    },
    {
      "cell_type": "code",
      "metadata": {
        "id": "jcJ7e5LY0z2-"
      },
      "source": [
        "carrosCopy.pop('Crossfox', 'Chave não encontrada')"
      ],
      "execution_count": null,
      "outputs": []
    },
    {
      "cell_type": "markdown",
      "metadata": {
        "id": "kabIXA260z2_"
      },
      "source": [
        "## *dict.clear()*\n",
        "\n",
        "Remove todos os itens do dicionário."
      ]
    },
    {
      "cell_type": "code",
      "metadata": {
        "id": "3wEAWVbK0z3A"
      },
      "source": [
        "carrosCopy"
      ],
      "execution_count": null,
      "outputs": []
    },
    {
      "cell_type": "code",
      "metadata": {
        "id": "dLTNoERC0z3A"
      },
      "source": [
        "carrosCopy.clear()"
      ],
      "execution_count": null,
      "outputs": []
    },
    {
      "cell_type": "code",
      "source": [
        "carrosCopy"
      ],
      "metadata": {
        "id": "p8M6subf1k6s"
      },
      "execution_count": null,
      "outputs": []
    },
    {
      "cell_type": "markdown",
      "metadata": {
        "id": "J6KrbXsM0z3A"
      },
      "source": [
        "## 4.4 Iterando em dicionários"
      ]
    },
    {
      "cell_type": "code",
      "source": [
        "dados = {'Crossfox': 72832.16, 'DS5': 124549.07,  'Fusca': 150000,  'Jetta Variant': 88078.64,  'Passat': 106161.95}\n",
        "dados"
      ],
      "metadata": {
        "id": "Qen1NoTP3WSy"
      },
      "execution_count": null,
      "outputs": []
    },
    {
      "cell_type": "markdown",
      "metadata": {
        "id": "OCGG3Iw30z3B"
      },
      "source": [
        "## *dict.keys()*\n",
        "\n",
        "Retorna uma lista contendo as chaves (*keys*) do dicionário."
      ]
    },
    {
      "cell_type": "code",
      "metadata": {
        "id": "9nNICV3l0z3B"
      },
      "source": [
        "# todas as chaves do dicionario\n",
        "\n",
        "dados.keys()"
      ],
      "execution_count": null,
      "outputs": []
    },
    {
      "cell_type": "code",
      "metadata": {
        "id": "3t5ybGjz0z3C"
      },
      "source": [
        "# mostrar todas as chaves do dicionario\n",
        "\n",
        "for key in dados.keys():\n",
        "    print(key)"
      ],
      "execution_count": null,
      "outputs": []
    },
    {
      "cell_type": "code",
      "source": [
        "# mostrar dodos os valores das chaves\n",
        "\n",
        "for valores in dados.keys():\n",
        "    print(dados[valores])\n"
      ],
      "metadata": {
        "id": "Nmom3E1c4Lka"
      },
      "execution_count": null,
      "outputs": []
    },
    {
      "cell_type": "markdown",
      "metadata": {
        "id": "FZeIKTvy0z3C"
      },
      "source": [
        "## *dict.values()*\n",
        "\n",
        "Retorna uma lista com todos os valores (*values*) do dicionário."
      ]
    },
    {
      "cell_type": "code",
      "metadata": {
        "id": "Ek5oCgGg0z3C"
      },
      "source": [
        "# retorna os valores\n",
        "\n",
        "dados.values()"
      ],
      "execution_count": null,
      "outputs": []
    },
    {
      "cell_type": "markdown",
      "metadata": {
        "id": "fmRpnJPk0z3C"
      },
      "source": [
        "## *dict.items()*\n",
        "\n",
        "Retorna uma lista contendo uma tupla para cada par chave-valor (*key-value*) do dicionário."
      ]
    },
    {
      "cell_type": "code",
      "source": [
        "# parecido com o zip junta chave-valor\n",
        "\n",
        "dados.items()"
      ],
      "metadata": {
        "id": "5QHc4Tku54IS"
      },
      "execution_count": null,
      "outputs": []
    },
    {
      "cell_type": "code",
      "metadata": {
        "id": "hsZwtsO50z3D"
      },
      "source": [
        "# mostrar os itens em tuplas\n",
        "\n",
        "for item in dados.items():\n",
        "    print(item)"
      ],
      "execution_count": null,
      "outputs": []
    },
    {
      "cell_type": "code",
      "metadata": {
        "id": "B4L70d_90z3D"
      },
      "source": [
        "# desempacotamento de tuplas\n",
        "\n",
        "for key,valor in dados.items():\n",
        "    print(key,'= ',valor)"
      ],
      "execution_count": null,
      "outputs": []
    },
    {
      "cell_type": "code",
      "metadata": {
        "id": "69GHww_U0z3D"
      },
      "source": [
        "# condicional mostrar a chave desse maior valor\n",
        "\n",
        "for key, valor in dados.items():\n",
        "    if(valor > 100000):\n",
        "        print(key)"
      ],
      "execution_count": null,
      "outputs": []
    },
    {
      "cell_type": "markdown",
      "source": [
        " ## Iterando em dicionários de dicionários"
      ],
      "metadata": {
        "id": "gsfr7Ssc8Yav"
      }
    },
    {
      "cell_type": "code",
      "metadata": {
        "id": "np56K4xZ0z3E"
      },
      "source": [
        "dados = {\n",
        "    'Crossfox': {'valor': 72000, 'ano': 2005},\n",
        "    'DS5': {'valor': 125000, 'ano': 2015},\n",
        "    'Fusca': {'valor': 150000, 'ano': 1976},\n",
        "    'Jetta': {'valor': 88000, 'ano': 2010},\n",
        "    'Passat': {'valor': 106000, 'ano': 1998}\n",
        "}"
      ],
      "execution_count": null,
      "outputs": []
    },
    {
      "cell_type": "markdown",
      "source": [
        " 1- imprime somente os nomes dos veículos com ano de fabricação maior ou igual a 2000.\n",
        "\n"
      ],
      "metadata": {
        "id": "IXeoQqdn8iLi"
      }
    },
    {
      "cell_type": "code",
      "source": [
        "# filtando o ano e mostrando a key\n",
        "\n",
        "for item in dados.items():\n",
        "    if(item[1]['ano'] >= 2000):\n",
        "        print(item[0])"
      ],
      "metadata": {
        "id": "wfCUnibU8jQy"
      },
      "execution_count": null,
      "outputs": []
    },
    {
      "cell_type": "markdown",
      "metadata": {
        "id": "CotNgG0b0z3E"
      },
      "source": [
        "# <font color=green> 5. FUNÇÕES E PACOTES\n",
        "---\n",
        "    \n",
        "Funções são unidades de código reutilizáveis que realizam uma tarefa específica, podem receber alguma entrada e também podem retornar alguma resultado."
      ]
    },
    {
      "cell_type": "markdown",
      "metadata": {
        "id": "6gZZw6MJ0z3E"
      },
      "source": [
        "## 5.1 Built-in function\n",
        "\n",
        "A linguagem Python possui várias funções integradas que estão sempre acessíveis. Algumas já utilizamos em nosso treinamento: type(), print(), zip(), len(), set() etc.\n",
        "\n",
        "https://docs.python.org/3.6/library/functions.html"
      ]
    },
    {
      "cell_type": "code",
      "metadata": {
        "id": "rFanw1C70z3F"
      },
      "source": [
        "dados = {'Jetta Variant': 88078.64, 'Passat': 106161.94, 'Crossfox': 72832.16}\n",
        "dados"
      ],
      "execution_count": null,
      "outputs": []
    },
    {
      "cell_type": "code",
      "metadata": {
        "id": "yvIcm2KX0z3F"
      },
      "source": [
        "# mostar todos os valores\n",
        "\n",
        "valores = []\n",
        "\n",
        "for valor in dados.values():\n",
        "    valores.append(valor)\n",
        "\n",
        "valores\n"
      ],
      "execution_count": null,
      "outputs": []
    },
    {
      "cell_type": "code",
      "metadata": {
        "scrolled": false,
        "id": "nohft-Da0z3G"
      },
      "source": [
        "# mostrar os valores do dicionario com a function (list)\n",
        "\n",
        "list(dados.values())"
      ],
      "execution_count": null,
      "outputs": []
    },
    {
      "cell_type": "code",
      "metadata": {
        "id": "97qgH8210z3F"
      },
      "source": [
        "# somar todos os valores\n",
        "\n",
        "somar = 0\n",
        "\n",
        "for valor in dados.values():\n",
        "    somar += valor\n",
        "\n",
        "somar"
      ],
      "execution_count": null,
      "outputs": []
    },
    {
      "cell_type": "code",
      "source": [
        "subt = 10\n",
        "\n",
        "for valor in dados.values():\n",
        "    subt *= valor\n",
        "\n",
        "subt"
      ],
      "metadata": {
        "id": "EcyQFc2p6diy"
      },
      "execution_count": null,
      "outputs": []
    },
    {
      "cell_type": "code",
      "metadata": {
        "id": "8ShMXG6V0z3G"
      },
      "source": [
        "# somar os todos os valores contidos no dicionario com a function (sum)\n",
        "\n",
        "sum(dados.values())"
      ],
      "execution_count": null,
      "outputs": []
    },
    {
      "cell_type": "code",
      "metadata": {
        "id": "ZQ_iRwD50z3G"
      },
      "source": [
        "# somar os valores + um acrescimo\n",
        "\n",
        "sum(dados.values() ,200000)"
      ],
      "execution_count": null,
      "outputs": []
    },
    {
      "cell_type": "markdown",
      "metadata": {
        "id": "1nsX6JX60z3H"
      },
      "source": [
        "# 5.2 Definindo funções sem e com parâmetros"
      ]
    },
    {
      "cell_type": "markdown",
      "metadata": {
        "id": "KfFj3ADn0z3H"
      },
      "source": [
        "### Funções sem parâmetros\n",
        "\n",
        "#### Formato padrão\n",
        "\n",
        "```\n",
        "def <nome>():\n",
        "    <instruções>\n",
        "```"
      ]
    },
    {
      "cell_type": "code",
      "metadata": {
        "id": "cNC7C2Zy0z3H"
      },
      "source": [
        "def media():\n",
        "    valor = (1+1+6) / 2\n",
        "    print(valor)\n",
        "\n",
        "media()"
      ],
      "execution_count": null,
      "outputs": []
    },
    {
      "cell_type": "markdown",
      "metadata": {
        "id": "9iQiAER30z3I"
      },
      "source": [
        "### Funções com parâmetros\n",
        "\n",
        "#### Formato padrão\n",
        "\n",
        "```\n",
        "def <nome>(<param_1>, <param_2>, ..., <param_n>):\n",
        "    <instruções>\n",
        "```"
      ]
    },
    {
      "cell_type": "code",
      "metadata": {
        "id": "xJElENGx0z3I"
      },
      "source": [
        "# função que recebe 3 valores para somar e dividir\n",
        "\n",
        "def media(nu_1,nu_2,nu_3):\n",
        "    valor = (nu_1 + nu_2 + nu_3) / 2\n",
        "\n",
        "    print(valor)\n",
        "\n",
        "media(5,8,9)"
      ],
      "execution_count": null,
      "outputs": []
    },
    {
      "cell_type": "code",
      "metadata": {
        "id": "sc6bg2-E0z3J"
      },
      "source": [
        "# somar os numeros da lista e depois dividir pelo seu tamanho\n",
        "\n",
        "def media(lista):\n",
        "  valor = sum(lista) / len(lista)\n",
        "  print(valor)\n",
        "\n",
        "media([1,3,6])"
      ],
      "execution_count": null,
      "outputs": []
    },
    {
      "cell_type": "code",
      "metadata": {
        "id": "iO2D-26q0z3J"
      },
      "source": [
        "resultado = media ([1, 2, 3, 4, 5, 6, 7, 8, 9])"
      ],
      "execution_count": null,
      "outputs": []
    },
    {
      "cell_type": "code",
      "metadata": {
        "id": "07ptZq7p0z3J"
      },
      "source": [
        "#  a variável na verdade não tem valor nenhum\n",
        "\n",
        "type(resultado)"
      ],
      "execution_count": null,
      "outputs": []
    },
    {
      "cell_type": "markdown",
      "source": [
        "#### **Problema:** Quilometragem média de um veículo"
      ],
      "metadata": {
        "id": "WhcotJ73XodG"
      }
    },
    {
      "cell_type": "code",
      "metadata": {
        "id": "CNsRTKhG0z3K"
      },
      "source": [
        "dados = {\n",
        "    'Crossfox': {'km': 35000, 'ano': 2005},\n",
        "    'DS5': {'km': 17000, 'ano': 2015},\n",
        "    'Fusca': {'km': 130000, 'ano': 1979},\n",
        "    'Jetta': {'km': 56000, 'ano': 2011},\n",
        "    'Passat': {'km': 62000, 'ano': 1999}\n",
        "}"
      ],
      "execution_count": null,
      "outputs": []
    },
    {
      "cell_type": "markdown",
      "source": [
        "A estrutura a seguir é a definição de uma função que obtém e imprime a quilometragem média anual de cada veículo em um dicionário com a estrutura do dicionário dados acima:"
      ],
      "metadata": {
        "id": "PvkOlhYfX3bw"
      }
    },
    {
      "cell_type": "code",
      "metadata": {
        "id": "5Ti2IBGQ0z3K"
      },
      "source": [
        "def km_media(dataset, ano_atual):\n",
        "    for item in dataset.items():\n",
        "        result = item[1]['km'] / (ano_atual - item[1]['ano'])\n",
        "        print(result)"
      ],
      "execution_count": null,
      "outputs": []
    },
    {
      "cell_type": "markdown",
      "metadata": {
        "id": "i4KS6sYr0z3K"
      },
      "source": [
        "# 4.3 Definindo funções que retornam valores"
      ]
    },
    {
      "cell_type": "markdown",
      "metadata": {
        "id": "qHatEJj50z3L"
      },
      "source": [
        "### Funções que retornam um valor\n",
        "\n",
        "#### Formato padrão\n",
        "\n",
        "```\n",
        "def <nome>(<param_1>, <param_2>, ..., <param_n>):\n",
        "    <instruções>\n",
        "    return <resultado>\n",
        "```"
      ]
    },
    {
      "cell_type": "code",
      "metadata": {
        "id": "qjnQfD5c0z3L"
      },
      "source": [
        "# return o valor e o tamanho\n",
        "\n",
        "def media(lista):\n",
        "    valor = sum(lista) / len(lista)\n",
        "    return(valor, len(lista))"
      ],
      "execution_count": null,
      "outputs": []
    },
    {
      "cell_type": "code",
      "metadata": {
        "id": "bBG9XtoQ0z3L"
      },
      "source": [
        "media([3,6,8,9,2])"
      ],
      "execution_count": null,
      "outputs": []
    },
    {
      "cell_type": "code",
      "metadata": {
        "id": "Zb59d5du0z3M"
      },
      "source": [
        "# separando o resultado atribuindo em duas variaveis\n",
        "\n",
        "valor_media, tamanho = media([3,6,8,9,2])"
      ],
      "execution_count": null,
      "outputs": []
    },
    {
      "cell_type": "code",
      "metadata": {
        "id": "MschUMlc0z3M"
      },
      "source": [
        "valor_media"
      ],
      "execution_count": null,
      "outputs": []
    },
    {
      "cell_type": "code",
      "source": [
        "tamanho"
      ],
      "metadata": {
        "id": "XOZ7K7cyzMBf"
      },
      "execution_count": null,
      "outputs": []
    },
    {
      "cell_type": "markdown",
      "source": [
        "#### **Problema:** A estrutura a seguir é a definição de uma função que calcula as quilometragens médias anuais de cada veículo e retorna um dicionário com os nomes dos veículos como chaves e as quilometragens médias como valores:"
      ],
      "metadata": {
        "id": "y1bSyUKXzxDF"
      }
    },
    {
      "cell_type": "code",
      "source": [
        "dados = {\n",
        "    'Crossfox': {'km': 35000, 'ano': 2005},\n",
        "    'DS5': {'km': 17000, 'ano': 2015},\n",
        "    'Fusca': {'km': 130000, 'ano': 1979},\n",
        "    'Jetta': {'km': 56000, 'ano': 2011},\n",
        "    'Passat': {'km': 62000, 'ano': 1999}\n",
        "}"
      ],
      "metadata": {
        "id": "7tn6X8luz4Qj"
      },
      "execution_count": null,
      "outputs": []
    },
    {
      "cell_type": "code",
      "source": [
        "def km_media(dataset, ano_atual):\n",
        "    result = {}\n",
        "\n",
        "    for item in dataset.items():\n",
        "        media = item[1]['km'] / (ano_atual - item[1]['ano'])\n",
        "        result.update({ item[0]: media })\n",
        "\n",
        "    return result"
      ],
      "metadata": {
        "id": "8yOHZnsPz7BW"
      },
      "execution_count": null,
      "outputs": []
    },
    {
      "cell_type": "code",
      "source": [
        "km_media(dados, 2019)"
      ],
      "metadata": {
        "id": "QHdqtz_b0Kss"
      },
      "execution_count": null,
      "outputs": []
    },
    {
      "cell_type": "markdown",
      "source": [
        "Elaborando um pouco mais a nossa função"
      ],
      "metadata": {
        "id": "I8Usvomk1CZA"
      }
    },
    {
      "cell_type": "code",
      "source": [
        "dados = {\n",
        "    'Crossfox': {'km': 35000, 'ano': 2005},\n",
        "    'DS5': {'km': 17000, 'ano': 2015},\n",
        "    'Fusca': {'km': 130000, 'ano': 1979},\n",
        "    'Jetta': {'km': 56000, 'ano': 2011},\n",
        "    'Passat': {'km': 62000, 'ano': 1999}\n",
        "}"
      ],
      "metadata": {
        "id": "_G_NNgd51DbW"
      },
      "execution_count": null,
      "outputs": []
    },
    {
      "cell_type": "code",
      "source": [
        "def km_media(dataset, ano_atual):\n",
        "    result = {}\n",
        "\n",
        "    for item in dataset.items():\n",
        "        media = item[1]['km'] / (ano_atual - item[1]['ano'])\n",
        "        item[1].update({ 'km_media': media })\n",
        "        result.update({ item[0]: item[1] })\n",
        "\n",
        "    return result"
      ],
      "metadata": {
        "id": "4OLJ3k5i1Tiw"
      },
      "execution_count": null,
      "outputs": []
    },
    {
      "cell_type": "code",
      "source": [
        "km_media(dados, 2019)"
      ],
      "metadata": {
        "id": "DbcRSzMA1WBl"
      },
      "execution_count": null,
      "outputs": []
    },
    {
      "cell_type": "markdown",
      "metadata": {
        "id": "QMCz0MHZ0z3M"
      },
      "source": [
        "### Funções que retornam mais de um valor\n",
        "\n",
        "#### Formato padrão\n",
        "\n",
        "```\n",
        "def <nome>(<param_1>, <param_2>, ..., <param_n>):\n",
        "    <instruções>\n",
        "    return (<resultado_1>, <resultado_2>, ..., <resultado_n>)\n",
        "```"
      ]
    },
    {
      "cell_type": "code",
      "metadata": {
        "id": "YrqkGatr0z3N"
      },
      "source": [],
      "execution_count": null,
      "outputs": []
    },
    {
      "cell_type": "code",
      "metadata": {
        "id": "rcdOR02c0z3N"
      },
      "source": [],
      "execution_count": null,
      "outputs": []
    },
    {
      "cell_type": "code",
      "metadata": {
        "id": "_5S8vvzY0z3O"
      },
      "source": [],
      "execution_count": null,
      "outputs": []
    },
    {
      "cell_type": "code",
      "metadata": {
        "id": "aQo77RAb0z3O"
      },
      "source": [],
      "execution_count": null,
      "outputs": []
    },
    {
      "cell_type": "code",
      "metadata": {
        "id": "tft7dEPK0z3O"
      },
      "source": [],
      "execution_count": null,
      "outputs": []
    },
    {
      "cell_type": "markdown",
      "metadata": {
        "id": "TC2ymD9F0z3O"
      },
      "source": [
        "# <font color=green> 6. PANDAS BÁSICO\n",
        "---\n",
        "\n",
        "**versão: 0.25.2**\n",
        "  \n",
        "Pandas é uma ferramenta de manipulação de dados de alto nível, construída com base no pacote Numpy. O pacote pandas possui estruturas de dados bastante interessantes para manipulação de dados e por isso é muito utilizado por cientistas de dados.\n",
        "\n",
        "\n",
        "## Estruturas de Dados\n",
        "\n",
        "### Series\n",
        "\n",
        "Series são arrays unidimensionais rotulados capazes de armazenar qualquer tipo de dado. Os rótulos das linhas são chamados de **index**. A forma básica de criação de uma Series é a seguinte:\n",
        "\n",
        "\n",
        "```\n",
        "    s = pd.Series(dados, index = index)\n",
        "```\n",
        "\n",
        "O argumento *dados* pode ser um dicionário, uma lista, um array Numpy ou uma constante.\n",
        "\n",
        "### DataFrames\n",
        "\n",
        "DataFrame é uma estrutura de dados tabular bidimensional com rótulos nas linha e colunas. Como a Series, os DataFrames são capazes de armazenar qualquer tipo de dados.\n",
        "\n",
        "\n",
        "```\n",
        "    df = pd.DataFrame(dados, index = index, columns = columns)\n",
        "```\n",
        "\n",
        "O argumento *dados* pode ser um dicionário, uma lista, um array Numpy, uma Series e outro DataFrame.\n",
        "\n",
        "**Documentação:** https://pandas.pydata.org/pandas-docs/version/0.25/"
      ]
    },
    {
      "cell_type": "markdown",
      "metadata": {
        "id": "BhT7mmnw0z3P"
      },
      "source": [
        "## 6.1 Estruturas de dados"
      ]
    },
    {
      "cell_type": "code",
      "metadata": {
        "id": "vQmBPVo_0z3P"
      },
      "source": [
        "import pandas as pd"
      ],
      "execution_count": null,
      "outputs": []
    },
    {
      "cell_type": "markdown",
      "metadata": {
        "id": "jt6P3wEH0z3P"
      },
      "source": [
        "### Criando uma Series a partir de uma lista"
      ]
    },
    {
      "cell_type": "code",
      "metadata": {
        "id": "TOmwlAh00z3Q"
      },
      "source": [
        "# A primeira forma de criarmos uma series é a partir de uma lista\n",
        "\n",
        "carros = ['Jetta Variant', 'Passat', 'Crossfox']\n",
        "carros"
      ],
      "execution_count": null,
      "outputs": []
    },
    {
      "cell_type": "code",
      "metadata": {
        "id": "8wQUa8lb0z3Q"
      },
      "source": [
        "#  chamaremos pd.Series() passando a nossa lista como argumento.\n",
        "\n",
        "pd.Series(carros)"
      ],
      "execution_count": null,
      "outputs": []
    },
    {
      "cell_type": "markdown",
      "metadata": {
        "id": "--8cr0RP0z3R"
      },
      "source": [
        "### Criando um DataFrame a partir de uma lista de dicionários"
      ]
    },
    {
      "cell_type": "code",
      "metadata": {
        "id": "wRS4-T820z3R"
      },
      "source": [
        "dados = [\n",
        "    {'Nome': 'Jetta Variant', 'Motor': 'Motor 4.0 Turbo', 'Ano': 2003, 'Quilometragem': 44410.0, 'Zero_km': False, 'Valor': 88078.64},\n",
        "    {'Nome': 'Passat', 'Motor': 'Motor Diesel', 'Ano': 1991, 'Quilometragem': 5712.0, 'Zero_km': False, 'Valor': 106161.94},\n",
        "    {'Nome': 'Crossfox', 'Motor': 'Motor Diesel V8', 'Ano': 1990, 'Quilometragem': 37123.0, 'Zero_km': False, 'Valor': 72832.16}\n",
        "]"
      ],
      "execution_count": null,
      "outputs": []
    },
    {
      "cell_type": "code",
      "metadata": {
        "id": "Da-sn37T0z3R"
      },
      "source": [
        "# Criar uma variável dataset que receberá a chamada de pd.DataFrame() passando como parâmetro nossa lista dados\n",
        "\n",
        "dataset = pd.DataFrame(dados)\n",
        "dataset"
      ],
      "execution_count": null,
      "outputs": []
    },
    {
      "cell_type": "code",
      "metadata": {
        "id": "ankYDTJR0z3S"
      },
      "source": [
        "# Se quisermos modificar a ordem das colunas desse dataframe [[]]\n",
        "\n",
        "dataset[['Nome', 'Motor', 'Ano', 'Quilometragem', 'Zero_km', 'Valor']]"
      ],
      "execution_count": null,
      "outputs": []
    },
    {
      "cell_type": "code",
      "metadata": {
        "id": "f0snKqD40z3S"
      },
      "source": [],
      "execution_count": null,
      "outputs": []
    },
    {
      "cell_type": "markdown",
      "metadata": {
        "id": "J0x5vysK0z3S"
      },
      "source": [
        "### Criando um DataFrame a partir de um dicionário"
      ]
    },
    {
      "cell_type": "code",
      "metadata": {
        "id": "ThiXSORb0z3S"
      },
      "source": [
        "dados = {\n",
        "    'Nome': ['Jetta Variant', 'Passat', 'Crossfox'],\n",
        "    'Motor': ['Motor 4.0 Turbo', 'Motor Diesel', 'Motor Diesel V8'],\n",
        "    'Ano': [2003, 1991, 1990],\n",
        "    'Quilometragem': [44410.0, 5712.0, 37123.0],\n",
        "    'Zero_km': [False, False, False],\n",
        "    'Valor': [88078.64, 106161.94, 72832.16]\n",
        "}"
      ],
      "execution_count": null,
      "outputs": []
    },
    {
      "cell_type": "code",
      "metadata": {
        "id": "BOnMzM_U0z3T"
      },
      "source": [
        "# trabalhando com um dicionário as chaves são os rótulos dos dados e os valores são uma lista com todas as informações\n",
        "\n",
        "dataset = pd.DataFrame(dados)\n",
        "dataset"
      ],
      "execution_count": null,
      "outputs": []
    },
    {
      "cell_type": "markdown",
      "metadata": {
        "id": "-YMtjcYA0z3T"
      },
      "source": [
        "### Criando um DataFrame a partir de uma arquivo externo"
      ]
    },
    {
      "cell_type": "code",
      "metadata": {
        "id": "9pSUjJ740z3U"
      },
      "source": [
        "# importar o arquivi, dar um nome, pd.read_csv( ' ' , sep= ';' )\n",
        "\n",
        "dataset = pd.read_csv('db.csv' , sep=';')\n",
        "dataset"
      ],
      "execution_count": null,
      "outputs": []
    },
    {
      "cell_type": "code",
      "metadata": {
        "scrolled": true,
        "id": "U0NQ0-Vz0z3U"
      },
      "source": [
        "# transformar o index em rotulos\n",
        "\n",
        "dataset = pd.read_csv('db.csv', sep = ';', index_col = 0)\n",
        "dataset"
      ],
      "execution_count": null,
      "outputs": []
    },
    {
      "cell_type": "markdown",
      "source": [
        "#### **Problema:** Criando DataFrames quilometragem media de um veiculo"
      ],
      "metadata": {
        "id": "QPR1tU6XNHFP"
      }
    },
    {
      "cell_type": "code",
      "source": [
        "dados = {\n",
        "    'Crossfox': {'km': 35000, 'ano': 2005},\n",
        "    'DS5': {'km': 17000, 'ano': 2015},\n",
        "    'Fusca': {'km': 130000, 'ano': 1979},\n",
        "    'Jetta': {'km': 56000, 'ano': 2011},\n",
        "    'Passat': {'km': 62000, 'ano': 1999}\n",
        "}"
      ],
      "metadata": {
        "id": "E0T5Z8stNF4E"
      },
      "execution_count": null,
      "outputs": []
    },
    {
      "cell_type": "code",
      "source": [
        "def km_media(dataset, ano_atual):\n",
        "    result = {}\n",
        "    for item in dataset.items():\n",
        "        media = item[1]['km'] / (ano_atual - item[1]['ano'])\n",
        "        item[1].update({ 'km_media': media })\n",
        "        result.update({ item[0]: item[1] })\n",
        "\n",
        "    return result"
      ],
      "metadata": {
        "id": "68xTolZVNU4h"
      },
      "execution_count": null,
      "outputs": []
    },
    {
      "cell_type": "code",
      "source": [
        "km_media(dados, 2019)"
      ],
      "metadata": {
        "id": "08r8h1kXNXQv"
      },
      "execution_count": null,
      "outputs": []
    },
    {
      "cell_type": "code",
      "source": [
        "# A propriedade .T é uma forma de acessar o método transpose() do DataFrame\n",
        "\n",
        "carros = pd.DataFrame(km_media(dados, 2019)).T\n",
        "\n",
        "carros\n"
      ],
      "metadata": {
        "id": "L5mllylONbKl"
      },
      "execution_count": null,
      "outputs": []
    },
    {
      "cell_type": "code",
      "source": [
        "carros = pd.DataFrame(km_media(dados, 2019))\n",
        "\n",
        "carros"
      ],
      "metadata": {
        "id": "ZGMepPEbOM5I"
      },
      "execution_count": null,
      "outputs": []
    },
    {
      "cell_type": "markdown",
      "metadata": {
        "id": "fRrqT1C70z3U"
      },
      "source": [
        "# 6.2 Seleções com DataFrames"
      ]
    },
    {
      "cell_type": "markdown",
      "metadata": {
        "id": "1kPC9_6m0z3U"
      },
      "source": [
        "### Selecionando colunas"
      ]
    },
    {
      "cell_type": "code",
      "metadata": {
        "scrolled": true,
        "id": "x4FRWqwN0z3V"
      },
      "source": [
        "dataset.head()"
      ],
      "execution_count": null,
      "outputs": []
    },
    {
      "cell_type": "code",
      "metadata": {
        "id": "4pf7e9iM0z3V"
      },
      "source": [
        "# selecionar somente a coluna bastará passarmos o seu rótulo entre [''].\n",
        "\n",
        "dataset['Valor']"
      ],
      "execution_count": null,
      "outputs": []
    },
    {
      "cell_type": "code",
      "metadata": {
        "scrolled": true,
        "id": "ix5Qtp-S0z3V"
      },
      "source": [
        "# essa seleção de colunas nos retorna uma series do Pandas\n",
        "\n",
        "type(dataset['Valor'])"
      ],
      "execution_count": null,
      "outputs": []
    },
    {
      "cell_type": "code",
      "metadata": {
        "id": "EX4tMn_70z3W"
      },
      "source": [
        "# como selecionar uma única coluna e obter como retorno um dataframe par de [['']]\n",
        "\n",
        "dataset[['Valor']]"
      ],
      "execution_count": null,
      "outputs": []
    },
    {
      "cell_type": "code",
      "source": [
        "type(dataset[['Valor']])"
      ],
      "metadata": {
        "id": "q1SIge-9Rl-N"
      },
      "execution_count": null,
      "outputs": []
    },
    {
      "cell_type": "markdown",
      "metadata": {
        "id": "zj6fDu6o0z3W"
      },
      "source": [
        "### Selecionando linhas - [ i : j ]\n",
        "\n",
        "<font color=red>**Observação:**</font> A indexação tem origem no zero e nos fatiamentos (*slices*) a linha com índice i é **incluída** e a linha com índice j **não é incluída** no resultado."
      ]
    },
    {
      "cell_type": "code",
      "metadata": {
        "id": "qJa4Awo10z3W"
      },
      "source": [
        "# selecionar as linhas = 0,1,2\n",
        "\n",
        "dataset[0:3]"
      ],
      "execution_count": null,
      "outputs": []
    },
    {
      "cell_type": "markdown",
      "metadata": {
        "id": "-rqV25_w0z3X"
      },
      "source": [
        "### Utilizando .loc para seleções\n",
        "\n",
        "<font color=red>**Observação:**</font> Seleciona um grupo de linhas e colunas segundo os rótulos ou uma matriz booleana."
      ]
    },
    {
      "cell_type": "code",
      "metadata": {
        "id": "xTIvdyaF0z3X"
      },
      "source": [
        "dataset.loc['Passat']"
      ],
      "execution_count": null,
      "outputs": []
    },
    {
      "cell_type": "code",
      "metadata": {
        "id": "O5DtTwFF0z3X"
      },
      "source": [
        "# usando o loc eu estou usando os rotulos = loc[['','']]\n",
        "\n",
        "dataset.loc[['Passat','Crossfox']]"
      ],
      "execution_count": null,
      "outputs": []
    },
    {
      "cell_type": "code",
      "metadata": {
        "id": "aoUbB7vX0z3X"
      },
      "source": [
        "# selecionando as linhas e as colunas = loc[['',''] , ['','']]\n",
        "\n",
        "dataset.loc[['Passat','DS5'] , ['Motor','Valor']]\n"
      ],
      "execution_count": null,
      "outputs": []
    },
    {
      "cell_type": "code",
      "metadata": {
        "scrolled": true,
        "id": "Qde3qp7Y0z3Y"
      },
      "source": [
        "# selecionar todas as linas e escolher as colunas = .loc[: , ['','']]\n",
        "\n",
        "dataset.loc[: , ['Motor','Valor']]"
      ],
      "execution_count": null,
      "outputs": []
    },
    {
      "cell_type": "markdown",
      "metadata": {
        "id": "9xGE3bF90z3Y"
      },
      "source": [
        "### Utilizando .iloc para seleções\n",
        "\n",
        "<font color=red>**Observação:**</font> Seleciona com base nos índices, ou seja, se baseia na posição das informações."
      ]
    },
    {
      "cell_type": "code",
      "metadata": {
        "id": "KaTtTthL0z3Y"
      },
      "source": [
        "# selecionando a linha pelo index\n",
        "\n",
        "dataset.iloc[1:5]"
      ],
      "execution_count": null,
      "outputs": []
    },
    {
      "cell_type": "code",
      "metadata": {
        "id": "ZnqUmPaP0z3Y"
      },
      "source": [
        "# selecionado a linha e as colunas\n",
        "\n",
        "dataset.iloc[0:3 , [2,5,1]]"
      ],
      "execution_count": null,
      "outputs": []
    },
    {
      "cell_type": "code",
      "metadata": {
        "id": "NxF1CH9W0z3Z"
      },
      "source": [
        "dataset.iloc[[1,35,78,] , [1,5]]"
      ],
      "execution_count": null,
      "outputs": []
    },
    {
      "cell_type": "code",
      "metadata": {
        "id": "7S-wHZRl0z3Z"
      },
      "source": [
        "# todas as linhas e colunas especificas\n",
        "\n",
        "dataset.iloc[: , [1,5]]"
      ],
      "execution_count": null,
      "outputs": []
    },
    {
      "cell_type": "markdown",
      "source": [
        "#### **Problema:** Fatiamentos com DataFrames\n",
        "código que seleciona somente as informações de Nome, Ano, Quilometragem e Valor dos carros Passat e Crossfox."
      ],
      "metadata": {
        "id": "b7Vn4l66Z4OG"
      }
    },
    {
      "cell_type": "code",
      "metadata": {
        "scrolled": true,
        "id": "1KsRD3LX0z3Z"
      },
      "source": [
        "import pandas as pd\n",
        "\n",
        "dados = {\n",
        "    'Nome': ['Jetta', 'Passat', 'Crossfox', 'DS5', 'Fusca'],\n",
        "    'Motor': ['Motor 4.0 Turbo', 'Motor Diesel', 'Motor Diesel V8', 'Motor 2.0', 'Motor 1.6'],\n",
        "    'Ano': [2019, 2003, 1991, 2019, 1990],\n",
        "    'Quilometragem': [0.0, 5712.0, 37123.0, 0.0, 120000.0],\n",
        "    'Zero_km': [True, False, False, True, False],\n",
        "    'Valor': [88000.0, 106000.0, 72000.0, 89000.0, 32000.0]\n",
        "}\n",
        "\n",
        "dataset = pd.DataFrame(dados)"
      ],
      "execution_count": null,
      "outputs": []
    },
    {
      "cell_type": "code",
      "source": [
        "dataset[1:3][['Nome', 'Ano', 'Quilometragem', 'Valor']]"
      ],
      "metadata": {
        "id": "Rnq9ECT6aMnM"
      },
      "execution_count": null,
      "outputs": []
    },
    {
      "cell_type": "code",
      "source": [
        "#  Utilizando .loc e .iloc para seleções\n",
        "\n",
        "import pandas as pd\n",
        "\n",
        "dados = {\n",
        "    'Motor': ['Motor 4.0 Turbo', 'Motor Diesel', 'Motor Diesel V8', 'Motor 2.0', 'Motor 1.6'],\n",
        "    'Ano': [2019, 2003, 1991, 2019, 1990],\n",
        "    'Quilometragem': [0.0, 5712.0, 37123.0, 0.0, 120000.0],\n",
        "    'Zero_km': [True, False, False, True, False],\n",
        "    'Valor': [88000.0, 106000.0, 72000.0, 89000.0, 32000.0]\n",
        "}\n",
        "\n",
        "dataset = pd.DataFrame(dados, index = ['Jetta', 'Passat', 'Crossfox', 'DS5', 'Fusca'])"
      ],
      "metadata": {
        "id": "57_EoTKPa6cT"
      },
      "execution_count": null,
      "outputs": []
    },
    {
      "cell_type": "code",
      "source": [
        "# iloc\n",
        "\n",
        "dataset.iloc[[1, 3], [0, -1]]"
      ],
      "metadata": {
        "id": "VKfrEX7HbiiA"
      },
      "execution_count": null,
      "outputs": []
    },
    {
      "cell_type": "code",
      "source": [
        "# loc\n",
        "\n",
        "dataset.loc[['Passat', 'DS5'], ['Motor', 'Valor']]"
      ],
      "metadata": {
        "id": "5RVExbjubpXR"
      },
      "execution_count": null,
      "outputs": []
    },
    {
      "cell_type": "markdown",
      "metadata": {
        "id": "mEOPZH_h0z3a"
      },
      "source": [
        "# 6.3 Queries com DataFrames"
      ]
    },
    {
      "cell_type": "code",
      "source": [
        "# 1 importe as bibliotecas\n",
        "\n",
        "import pandas as pd"
      ],
      "metadata": {
        "id": "qMg8KubM6GOt"
      },
      "execution_count": null,
      "outputs": []
    },
    {
      "cell_type": "code",
      "source": [
        "# 2 importe os dados\n",
        "# => nome=pd.read_csv('arquivo',sep=';',index_col=0)\n",
        "\n",
        "dataset=pd.read_csv('db.csv', sep=';' , index_col=0)"
      ],
      "metadata": {
        "id": "qPCb8Evya5p6"
      },
      "execution_count": null,
      "outputs": []
    },
    {
      "cell_type": "code",
      "metadata": {
        "scrolled": true,
        "id": "-u6axmN50z3a"
      },
      "source": [
        "# mostar só o cabeçalho\n",
        "# => nome.head()\n",
        "\n",
        "dataset.head(5)"
      ],
      "execution_count": null,
      "outputs": []
    },
    {
      "cell_type": "code",
      "metadata": {
        "id": "btLLfo-e0z3a"
      },
      "source": [
        "# selecionar todas as ocorrências de \"Motor Diesel\" nesse conjunto retornara uma series\n",
        "# => nome.local == ('')\n",
        "\n",
        "\n",
        "dataset.Motor == ('Motor Diesel')"
      ],
      "execution_count": null,
      "outputs": []
    },
    {
      "cell_type": "code",
      "metadata": {
        "id": "DXM9qf5L0z3b"
      },
      "source": [
        "# atribuir a uma variavel\n",
        "\n",
        "select = dataset.Motor == 'Motor Diesel'"
      ],
      "execution_count": null,
      "outputs": []
    },
    {
      "cell_type": "code",
      "source": [
        "# Ao passarmos a nova variável como parâmetro da nossa seleção,\n",
        "# receberemos um dataframe contendo todos os veículso que possuem \"Motor Diesel\".\n",
        "\n",
        "dataset[select]"
      ],
      "metadata": {
        "id": "o56rzp6tB3Pa"
      },
      "execution_count": null,
      "outputs": []
    },
    {
      "cell_type": "code",
      "metadata": {
        "scrolled": true,
        "id": "7TxgDp810z3b"
      },
      "source": [
        "type(select)"
      ],
      "execution_count": null,
      "outputs": []
    },
    {
      "cell_type": "markdown",
      "metadata": {
        "id": "v5CM9rv00z3b"
      },
      "source": [
        "### Utilizando o método query"
      ]
    },
    {
      "cell_type": "code",
      "metadata": {
        "id": "zKQDGj3S0z3c"
      },
      "source": [
        "# queremos realizar uma query adicional, dessa vez verificando se esses veículos também são \"Zero_km\".\n",
        "# => dataset[(==) & (==)]\n",
        "\n",
        "dataset[(dataset.Motor == 'Motor Diesel') & (dataset.Zero_km == True)]"
      ],
      "execution_count": null,
      "outputs": []
    },
    {
      "cell_type": "code",
      "source": [
        "dataset[(dataset.Motor == 'Motor Diesel') | (dataset.Zero_km == True)]"
      ],
      "metadata": {
        "id": "LHjvlHUZHYCP"
      },
      "execution_count": null,
      "outputs": []
    },
    {
      "cell_type": "code",
      "source": [
        "# outra forma de fazermos queries nos dataframes do Pandas, que é por meio da função query()\n",
        "# => dataset.query('col==\"valor\" and col==booleano')\n",
        "\n",
        "dataset.query('Motor == \"Motor Diesel\" and Zero_km == True')\n"
      ],
      "metadata": {
        "id": "dLFhXe8oE7tv"
      },
      "execution_count": null,
      "outputs": []
    },
    {
      "cell_type": "code",
      "source": [
        "# Além do \"and\" (&), o operador \"or\" (|, \"ou\") também pode nos auxiliar nas nossas seleções.\n",
        "# => dataset.query('col==\"valor\" or col==booleano')\n",
        "\n",
        "dataset.query('Motor == \"Motor Diesel\" or Zero_km == True')\n"
      ],
      "metadata": {
        "id": "YWTsbuV9G4P3"
      },
      "execution_count": null,
      "outputs": []
    },
    {
      "cell_type": "markdown",
      "metadata": {
        "id": "c1hIErBv0z3c"
      },
      "source": [
        "# 6.4 Iterando com DataFrames"
      ]
    },
    {
      "cell_type": "code",
      "metadata": {
        "id": "44sBJgoj0z3c"
      },
      "source": [
        "dataset.head()"
      ],
      "execution_count": null,
      "outputs": []
    },
    {
      "cell_type": "code",
      "metadata": {
        "id": "Hr2ywKkQ0z3d"
      },
      "source": [
        "for item in dataset:\n",
        "    print(item)"
      ],
      "execution_count": null,
      "outputs": []
    },
    {
      "cell_type": "code",
      "source": [
        "# forma com um indice contendo uma series tambem é iterador\n",
        "# => list(dataset.iterrows())\n",
        "\n",
        "list(dataset.iterrows())"
      ],
      "metadata": {
        "id": "pb6CdUtAKn8u"
      },
      "execution_count": null,
      "outputs": []
    },
    {
      "cell_type": "code",
      "source": [
        "# podemos usar o for ja que é um iterado, e o desempacotamento\n",
        "\n",
        "for index, row in dataset.iterrows():\n",
        "    if(2019 - row['Ano'] != 0):\n",
        "        dataset.loc[index ,'Km_medio'] = row['Quilometragem'] / (2019 -row['Ano'])\n",
        "    else:\n",
        "        dataset.loc[index, 'Km_medio'] = 0\n",
        "dataset\n"
      ],
      "metadata": {
        "id": "i1JvCWf0MIBH"
      },
      "execution_count": null,
      "outputs": []
    },
    {
      "cell_type": "markdown",
      "metadata": {
        "id": "xqrzN15U0z3d"
      },
      "source": [
        "# 6.5 Tratamento de dados"
      ]
    },
    {
      "cell_type": "markdown",
      "source": [
        "Continuaremos a utilizar o dataset que importamos anteriormente. Uma das formas de verificarmos rapidamente as informações de um conjunto de dados é por meio da função info()."
      ],
      "metadata": {
        "id": "MHcRpXst-hY1"
      }
    },
    {
      "cell_type": "code",
      "metadata": {
        "id": "_zKgqwv90z3d"
      },
      "source": [
        "\n",
        "dataset.head()"
      ],
      "execution_count": null,
      "outputs": []
    },
    {
      "cell_type": "code",
      "metadata": {
        "id": "jP6id7eD0z3d"
      },
      "source": [
        "#Uma das formas de verificarmos rapidamente as informações de um conjunto de dados é por meio da função info()\n",
        "\n",
        "dataset.info()"
      ],
      "execution_count": null,
      "outputs": []
    },
    {
      "cell_type": "code",
      "metadata": {
        "scrolled": true,
        "id": "QlNcZHDN0z3e"
      },
      "source": [
        "# O Pandas nos oferece a possibilidade de selecionar informações nulas ou não: a função isna().\n",
        "\n",
        "dataset.Quilometragem.isna()\n",
        "\n",
        "# Ela nos devolve uma series booleana identificando quais valores são ou não \"NA\" (nulos, vazios e assim por diante)."
      ],
      "execution_count": null,
      "outputs": []
    },
    {
      "cell_type": "code",
      "metadata": {
        "scrolled": true,
        "id": "Bjab3WuK0z3e"
      },
      "source": [
        "#  são identificados na series como True. Essa pode ser uma ferramenta interessante para verificarmos como estão se comportando os nossos dados, por exemplo criando um seletor.\n",
        "\n",
        "dataset[dataset.Quilometragem.isna()]"
      ],
      "execution_count": null,
      "outputs": []
    },
    {
      "cell_type": "code",
      "metadata": {
        "id": "VOb_VVY70z3e"
      },
      "source": [
        "# O Pandas inclusive nos disponibiliza uma forma de preenchermos esses valores, que é a função fillna(0)\n",
        "\n",
        "dataset.fillna(0)"
      ],
      "execution_count": null,
      "outputs": []
    },
    {
      "cell_type": "markdown",
      "source": [
        "Entretanto, essa alteração não refletirá no nosso dataset original, já que apenas modificamos a visualização dele. Para mantermos tal alteração, será necessário passarmos mais um parâmetro para a função fillna(), o inplace, que deverá ser definido como True.\n",
        "\n",
        "O parâmetro inplace também é utilizado em diversas outras funções do Pandas."
      ],
      "metadata": {
        "id": "ERpCNDiv97b_"
      }
    },
    {
      "cell_type": "code",
      "metadata": {
        "scrolled": true,
        "id": "s1K7A9p70z3e"
      },
      "source": [
        "dataset.fillna(0, inplace = True)"
      ],
      "execution_count": null,
      "outputs": []
    },
    {
      "cell_type": "code",
      "metadata": {
        "id": "SXT-YLmV0z3e"
      },
      "source": [
        "# Ou selecionando todos os veículos que possuem True como valor de \"Zero_km\".\n",
        "\n",
        "dataset.query('Zero_km == True')"
      ],
      "execution_count": null,
      "outputs": []
    },
    {
      "cell_type": "markdown",
      "source": [
        "Agora se fizermos algum modelo, os veículos 0 km não serão eliminados da amostra, já que não estão mais com valores nulos. Antes de continuarmos, importaremos novamente o conjunto db.csv de modo a retornarmos ao seu estado original."
      ],
      "metadata": {
        "id": "f1JHtyvR-Kc9"
      }
    },
    {
      "cell_type": "code",
      "metadata": {
        "id": "4_9vf70R0z3f"
      },
      "source": [
        "dataset = pd.read_csv('db.csv', sep = ';')"
      ],
      "execution_count": null,
      "outputs": []
    },
    {
      "cell_type": "markdown",
      "source": [
        "Fizemos isso para demonstrar outra ferramenta do Pandas que nos ajuda a eliminar os valores nulos de um dataframe, chamada dropna(). Chamaremos essa função a partir do nosso dataset e passaremos como parâmetro subset, que recebe a variável na qual queremos queremos buscar os valores nulos que serão eliminados."
      ],
      "metadata": {
        "id": "2zSH36Zk-TVf"
      }
    },
    {
      "cell_type": "code",
      "metadata": {
        "scrolled": true,
        "id": "uVbfgHN80z3f"
      },
      "source": [
        "dataset.dropna(subset = ['Quilometragem'])"
      ],
      "execution_count": null,
      "outputs": []
    },
    {
      "cell_type": "markdown",
      "source": [
        "Feito isso, nosso conjunto passará a ter somente 197 registros, diferente dos 258 anteriores. Aprendemos então duas abordagens diferentes para lidarmos com dados problemáticos nos nossos conjuntos: preencher os registros com alguma informação que faça mais sentido ou seja útil, ou simplesmente eliminá-los."
      ],
      "metadata": {
        "id": "IHFLqbhi-YwK"
      }
    },
    {
      "cell_type": "markdown",
      "source": [
        "#### Identificando e tratando dados faltantes"
      ],
      "metadata": {
        "id": "ryIbMK-p-slb"
      }
    },
    {
      "cell_type": "markdown",
      "source": [
        "1) isna() - Detecta valores faltantes. Retorna um DataFrame ou uma Series booleana, identificando se o registro é um NA\n",
        "\n",
        "2) fillna() - Preenche os registros identificados com NA, utilizando um método específico\n",
        "\n",
        "3) dropna() - Remove linhas com valores identificados como NA\n",
        "\n"
      ],
      "metadata": {
        "id": "eApMDPsF_GnX"
      }
    }
  ]
}
