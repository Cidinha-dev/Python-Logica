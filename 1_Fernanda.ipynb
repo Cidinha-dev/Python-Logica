{
  "nbformat": 4,
  "nbformat_minor": 0,
  "metadata": {
    "colab": {
      "private_outputs": true,
      "provenance": [],
      "authorship_tag": "ABX9TyOyX8WhL19CLFZLO3cggFBi",
      "include_colab_link": true
    },
    "kernelspec": {
      "name": "python3",
      "display_name": "Python 3"
    },
    "language_info": {
      "name": "python"
    }
  },
  "cells": [
    {
      "cell_type": "markdown",
      "metadata": {
        "id": "view-in-github",
        "colab_type": "text"
      },
      "source": [
        "<a href=\"https://colab.research.google.com/github/Cidinha-dev/Python-Logica/blob/main/1_Fernanda.ipynb\" target=\"_parent\"><img src=\"https://colab.research.google.com/assets/colab-badge.svg\" alt=\"Open In Colab\"/></a>"
      ]
    },
    {
      "cell_type": "markdown",
      "source": [
        "\n",
        "\n",
        "\n",
        "# Logica\n",
        "\n",
        "\n"
      ],
      "metadata": {
        "id": "i6TI-HeGm-K9"
      }
    },
    {
      "cell_type": "code",
      "source": [
        "nome = \"Aparecida\"\n",
        "idade = 35"
      ],
      "metadata": {
        "id": "Qq67Nkg4nPxO"
      },
      "execution_count": null,
      "outputs": []
    },
    {
      "cell_type": "code",
      "execution_count": null,
      "metadata": {
        "id": "IEe0OlaAlHkD"
      },
      "outputs": [],
      "source": [
        "nome,idade\n"
      ]
    },
    {
      "cell_type": "code",
      "source": [
        "print(f'Olá, você tem {idade} {nome}? ')"
      ],
      "metadata": {
        "id": "kSBU0QX7aNVu"
      },
      "execution_count": null,
      "outputs": []
    },
    {
      "cell_type": "markdown",
      "source": [
        "# Função"
      ],
      "metadata": {
        "id": "l9V5wDM-n1bT"
      }
    },
    {
      "cell_type": "code",
      "source": [
        "def saudacao():\n",
        "    pergunta = input('Qual é seu nome? ')\n",
        "    print(f'Olá {pergunta}')"
      ],
      "metadata": {
        "id": "v9hywiaSn68G"
      },
      "execution_count": null,
      "outputs": []
    },
    {
      "cell_type": "code",
      "source": [
        "saudacao()"
      ],
      "metadata": {
        "id": "cRpgHvRFonuz"
      },
      "execution_count": null,
      "outputs": []
    },
    {
      "cell_type": "markdown",
      "source": [
        "# Função com Parâmetros"
      ],
      "metadata": {
        "id": "mFUF2LgxpEVk"
      }
    },
    {
      "cell_type": "code",
      "source": [
        "nome = 'Fernanda'\n"
      ],
      "metadata": {
        "id": "GdorJvFDpFhM"
      },
      "execution_count": null,
      "outputs": []
    },
    {
      "cell_type": "code",
      "source": [
        "def saudacao_com_parametro(nome_em_parametro):\n",
        "    print(f'Olá {nome_em_parametro} como você está')"
      ],
      "metadata": {
        "id": "Uu39ipf-a2I9"
      },
      "execution_count": null,
      "outputs": []
    },
    {
      "cell_type": "code",
      "source": [
        "saudacao_com_parametro(nome)"
      ],
      "metadata": {
        "id": "qOcNvAvEbNET"
      },
      "execution_count": null,
      "outputs": []
    },
    {
      "cell_type": "markdown",
      "source": [
        "# Condicional"
      ],
      "metadata": {
        "id": "5xrx_lt1bfBj"
      }
    },
    {
      "cell_type": "code",
      "source": [
        "pergunta_idade=input('Qual é sua idade? ')\n",
        "idade = int(idade)\n",
        "\n",
        "def verifica_se_pode_dirigir(idade):\n",
        "    if idade < 18:\n",
        "        print(f'Você tem {idade}, ainda não pode dirigir')\n",
        "    else:\n",
        "        print(f'Você tem {idade}, já pode dirigir')\n",
        "\n",
        "verifica_se_pode_dirigir(idade)"
      ],
      "metadata": {
        "id": "hbPZkrQkbojt"
      },
      "execution_count": null,
      "outputs": []
    },
    {
      "cell_type": "markdown",
      "source": [
        "# Lista"
      ],
      "metadata": {
        "id": "6d52tvp-dmGI"
      }
    },
    {
      "cell_type": "code",
      "source": [
        "lista=[20,32,18,89,13]\n",
        "#       0  1  2  3  4\n",
        "#       0 -4 -3 -2 -1"
      ],
      "metadata": {
        "id": "C_bfo7iddnRR"
      },
      "execution_count": null,
      "outputs": []
    },
    {
      "cell_type": "code",
      "source": [
        "print(lista[2])"
      ],
      "metadata": {
        "id": "tk1z9jFeeXm1"
      },
      "execution_count": null,
      "outputs": []
    },
    {
      "cell_type": "code",
      "source": [
        "print(lista[0:4])"
      ],
      "metadata": {
        "id": "a-c9nqAMfK6X"
      },
      "execution_count": null,
      "outputs": []
    },
    {
      "cell_type": "code",
      "source": [
        "print(lista[2:])"
      ],
      "metadata": {
        "id": "weJRvMTJfbF5"
      },
      "execution_count": null,
      "outputs": []
    },
    {
      "cell_type": "code",
      "source": [
        "print(lista[-1])"
      ],
      "metadata": {
        "id": "Wzx1Q8dOfjLQ"
      },
      "execution_count": null,
      "outputs": []
    },
    {
      "cell_type": "markdown",
      "source": [
        "# Laços e loops"
      ],
      "metadata": {
        "id": "znn4X-4Bfqqa"
      }
    },
    {
      "cell_type": "code",
      "source": [
        "idades=[16,25,47,14,59,12,35]"
      ],
      "metadata": {
        "id": "lbmmW-Srfrat"
      },
      "execution_count": null,
      "outputs": []
    },
    {
      "cell_type": "code",
      "source": [
        "# Loop (for) fora da condicional\n",
        "\n",
        "def verifida_idade(idade):\n",
        "    if idade < 18:\n",
        "        print(f' {idade} não pode dirigir')\n",
        "    else:\n",
        "        print(f' {idade} pode dirigir')\n",
        "\n",
        "for idade in idades:\n",
        "    verifida_idade(idade)"
      ],
      "metadata": {
        "id": "TylalA7-gjbz"
      },
      "execution_count": null,
      "outputs": []
    },
    {
      "cell_type": "code",
      "source": [
        "# Loop (for) dentro da condicional\n",
        "\n",
        "def verifida_idade(idades):\n",
        "    for idade in idades:\n",
        "        if idade < 18:\n",
        "            print(f'{idade} não pode')\n",
        "        else:\n",
        "            print(f'{idade} pode sim')\n",
        "\n",
        "verifida_idade(idades)"
      ],
      "metadata": {
        "id": "HyNW75lOqgio"
      },
      "execution_count": null,
      "outputs": []
    },
    {
      "cell_type": "markdown",
      "source": [
        "# Boleano"
      ],
      "metadata": {
        "id": "RblCsp-dtRCQ"
      }
    },
    {
      "cell_type": "code",
      "source": [
        "numero = 24\n",
        "numero >=30"
      ],
      "metadata": {
        "id": "eM26ESpHtUto"
      },
      "execution_count": null,
      "outputs": []
    },
    {
      "cell_type": "code",
      "source": [
        "# listas\n",
        "\n",
        "idades= [10,35,58,17]\n",
        "permicao=[]\n",
        "\n",
        "def adiciona_booleado(idades,permecao):\n",
        "    for idade in idades:\n",
        "        if idade > 18:\n",
        "            permicao=True\n",
        "            print(f'Com {idade} = {permicao}')\n",
        "        else:\n",
        "            permicao=False\n",
        "            print(f'Com {idade} = {permicao}')\n",
        "\n",
        "            # lista\n",
        "            print(f' A idade é {idades[1]}')\n",
        "\n",
        "adiciona_booleado(idades, permicao)"
      ],
      "metadata": {
        "id": "lDRzrASPt5W8"
      },
      "execution_count": null,
      "outputs": []
    },
    {
      "cell_type": "code",
      "source": [
        "# O for ira percorrer e add o booleano de acordo com a condicional do if\n",
        "\n",
        "permissoes = []\n",
        "idades = [20, 14, 40]\n",
        "\n",
        "def verifica_se_pode_dirigir(idades, permissoes):\n",
        "  for idade in idades:\n",
        "    if idade >= 18:\n",
        "      permissoes.append(True)\n",
        "    else:\n",
        "      permissoes.append(False)\n",
        "\n",
        "verifica_se_pode_dirigir(idades, permissoes)\n",
        "\n",
        "permissoes"
      ],
      "metadata": {
        "id": "84DMT37XwzWu"
      },
      "execution_count": null,
      "outputs": []
    },
    {
      "cell_type": "code",
      "source": [
        "# caso seja iqual faça\n",
        "\n",
        "for permisao in permissoes:\n",
        "    if permisao == True:\n",
        "        print('Pode')\n",
        "    else:\n",
        "        print('Não')"
      ],
      "metadata": {
        "id": "SDZdJI24TTPV"
      },
      "execution_count": null,
      "outputs": []
    },
    {
      "cell_type": "markdown",
      "source": [
        "# Tipos em uma lista"
      ],
      "metadata": {
        "id": "DdLzuZC4T4Hu"
      }
    },
    {
      "cell_type": "code",
      "source": [
        "# reconhecendo os tipos\n",
        "\n",
        "lista =['Fernanda',35,True,'1']\n",
        "\n",
        "\n",
        "for elemento in lista:\n",
        "    print(f'o elemento = {elemento}', type(elemento))"
      ],
      "metadata": {
        "id": "KsDfDQniT5J3"
      },
      "execution_count": null,
      "outputs": []
    },
    {
      "cell_type": "code",
      "source": [
        "# importando lib | com a função randrange (star,stop) |\n",
        "\n",
        "from random import randrange, seed\n",
        "\n",
        "\n",
        "seed(11)"
      ],
      "metadata": {
        "id": "7B4XjE50W8YI"
      },
      "execution_count": null,
      "outputs": []
    },
    {
      "cell_type": "code",
      "source": [
        "randrange(0,11)"
      ],
      "metadata": {
        "id": "bBVyzr4PXUc4"
      },
      "execution_count": null,
      "outputs": []
    },
    {
      "cell_type": "code",
      "source": [
        "# for = para dizer quantos números seram gerados|add\n",
        "\n",
        "notas_matematica = []\n",
        "\n",
        "for notas in range(8):\n",
        "\n",
        "  notas_matematica.append(randrange(0,11))\n",
        "\n",
        "notas_matematica"
      ],
      "metadata": {
        "id": "fW_F5tW5XxNj"
      },
      "execution_count": null,
      "outputs": []
    },
    {
      "cell_type": "code",
      "source": [
        "# perguntando a quantidade de elementos dessa lista\n",
        "\n",
        "len(notas_matematica)"
      ],
      "metadata": {
        "id": "sZcgd9c0aG2Y"
      },
      "execution_count": null,
      "outputs": []
    },
    {
      "cell_type": "markdown",
      "source": [
        "# Matplotlib"
      ],
      "metadata": {
        "id": "SPaWuvjma39Y"
      }
    },
    {
      "cell_type": "code",
      "source": [
        "# gera graficos = matplotlib | pyplot = modulo para visualizar os graficos | plt = apelido\n",
        "\n",
        "import matplotlib.pyplot as plt\n"
      ],
      "metadata": {
        "id": "tKZq3QeZa4y1"
      },
      "execution_count": null,
      "outputs": []
    },
    {
      "cell_type": "code",
      "source": [
        "# plt chamar um plot para plotar um grafico\n",
        "\n",
        "x = list(range(1, 9))\n",
        "y = notas_matematica\n",
        "plt.plot(x, y, marker='o')\n",
        "\n",
        "\n",
        "# titulo\n",
        "plt.title('Notas de Matemática')\n",
        "\n",
        "\n",
        "# legenda\n",
        "plt.xlabel('Provas')\n",
        "plt.ylabel('Notas')\n",
        "\n",
        "# Igual ao programado\n",
        "plt.show()"
      ],
      "metadata": {
        "id": "F7K3Lk2ydk7o"
      },
      "execution_count": null,
      "outputs": []
    }
  ]
}